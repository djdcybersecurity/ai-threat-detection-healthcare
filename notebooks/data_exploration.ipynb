"""
Data Exploration Notebook
This notebook is used for exploring and visualizing the dataset.
"""

import pandas as pd  # Data manipulation
import matplotlib.pyplot as plt  # Visualization
import seaborn as sns  # Advanced visualization

# Load dataset
data_path = "dataset.csv"
df = pd.read_csv(data_path)

# Display basic dataset information
print("Dataset Overview:")
print(df.info())
print("\nFirst 5 rows of the dataset:")
print(df.head())

# Check for missing values
print("\nMissing values in the dataset:")
print(df.isnull().sum())

# Visualizing the distribution of classes (if classification problem)
if "label" in df.columns:
    plt.figure(figsize=(6, 4))
    sns.countplot(x="label", data=df)
    plt.title("Class Distribution")
    plt.show()

# Display feature correlation
plt.figure(figsize=(10, 6))
sns.heatmap(df.corr(), annot=True, cmap="coolwarm", fmt=".2f")
plt.title("Feature Correlation Heatmap")
plt.show()
