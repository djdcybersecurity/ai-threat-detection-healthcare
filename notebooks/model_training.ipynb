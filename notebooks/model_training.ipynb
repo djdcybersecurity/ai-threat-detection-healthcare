"""
Model Training Notebook
This notebook is used to train a machine learning model for threat detection.
"""

import pandas as pd  # Data manipulation
import numpy as np  # Numerical computing
from sklearn.model_selection import train_test_split  # Splitting dataset
from sklearn.ensemble import RandomForestClassifier  # Model
from sklearn.metrics import accuracy_score, classification_report  # Evaluation
import joblib  # Save the trained model

# Load dataset
data_path = "dataset.csv"
df = pd.read_csv(data_path)

# Assume 'label' is the target variable
X = df.drop(columns=["label"])  # Features
y = df["label"]  # Target variable

# Split dataset into training and testing sets (80% train, 20% test)
X_train, X_test, y_train, y_test = train_test_split(X, y, test_size=0.2, random_state=42)

# Train Random Forest model
model = RandomForestClassifier(n_estimators=100, random_state=42)
model.fit(X_train, y_train)

# Make predictions
y_pred = model.predict(X_test)

# Evaluate model
print("\nModel Accuracy:", accuracy_score(y_test, y_pred))
print("\nClassification Report:\n", classification_report(y_test, y_pred))

# Save the trained model
model_filename = "trained_model.pkl"
joblib.dump(model, model_filename)
print(f"\nModel saved as {model_filename}")
