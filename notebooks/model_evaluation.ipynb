"""
Model Evaluation Notebook
This notebook is used to evaluate the performance of a trained AI model.
"""

import pandas as pd  # Data handling
import joblib  # Model loading
from sklearn.metrics import accuracy_score, classification_report, confusion_matrix
import seaborn as sns
import matplotlib.pyplot as plt

# Load test dataset
data_path = "dataset.csv"
df = pd.read_csv(data_path)

# Assume 'label' is the target variable
X = df.drop(columns=["label"])
y = df["label"]

# Load trained model
model_path = "trained_model.pkl"
model = joblib.load(model_path)

# Make predictions
y_pred = model.predict(X)

# Evaluate model
print("\nModel Accuracy:", accuracy_score(y, y_pred))
print("\nClassification Report:\n", classification_report(y, y_pred))

# Display Confusion Matrix
plt.figure(figsize=(6, 4))
sns.heatmap(confusion_matrix(y, y_pred), annot=True, fmt="d", cmap="Blues", xticklabels=["Negative", "Positive"], yticklabels=["Negative", "Positive"])
plt.xlabel("Predicted")
plt.ylabel("Actual")
plt.title("Confusion Matrix")
plt.show()
