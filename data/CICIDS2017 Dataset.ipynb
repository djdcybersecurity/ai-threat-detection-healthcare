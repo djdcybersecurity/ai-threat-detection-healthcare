{
 "cells": [
  {
   "cell_type": "code",
   "execution_count": 1,
   "metadata": {
    "_cell_guid": "b1076dfc-b9ad-4769-8c92-a6c4dae69d19",
    "_uuid": "8f2839f25d086af736a60e9eeb907d3b93b6e0e5"
   },
   "outputs": [
    {
     "name": "stdout",
     "output_type": "stream",
     "text": [
      "/kaggle/input/cicids2017-full-dataset/combine.csv\n"
     ]
    }
   ],
   "source": [
    "# This Python 3 environment comes with many helpful analytics libraries installed\n",
    "# It is defined by the kaggle/python Docker image: https://github.com/kaggle/docker-python\n",
    "# For example, here's several helpful packages to load\n",
    "\n",
    "import numpy as np # linear algebra\n",
    "import pandas as pd # data processing, CSV file I/O (e.g. pd.read_csv)\n",
    "\n",
    "# Input data files are available in the read-only \"../input/\" directory\n",
    "# For example, running this (by clicking run or pressing Shift+Enter) will list all files under the input directory\n",
    "\n",
    "import os\n",
    "for dirname, _, filenames in os.walk('/kaggle/input'):\n",
    "    for filename in filenames:\n",
    "        print(os.path.join(dirname, filename))\n",
    "\n",
    "# You can write up to 5GB to the current directory (/kaggle/working/) that gets preserved as output when you create a version using \"Save & Run All\" \n",
    "# You can also write temporary files to /kaggle/temp/, but they won't be saved outside of the current session"
   ]
  },
  {
   "cell_type": "code",
   "execution_count": 2,
   "metadata": {
    "_cell_guid": "79c7e3d0-c299-4dcb-8224-4455121ee9b0",
    "_uuid": "d629ff2d2480ee46fbb7e2d37f6b5fab8052498a"
   },
   "outputs": [
    {
     "name": "stderr",
     "output_type": "stream",
     "text": [
      "/opt/conda/lib/python3.7/site-packages/IPython/core/interactiveshell.py:3063: DtypeWarning: Columns (0) have mixed types.Specify dtype option on import or set low_memory=False.\n",
      "  interactivity=interactivity, compiler=compiler, result=result)\n"
     ]
    },
    {
     "data": {
      "text/html": [
       "<div>\n",
       "<style scoped>\n",
       "    .dataframe tbody tr th:only-of-type {\n",
       "        vertical-align: middle;\n",
       "    }\n",
       "\n",
       "    .dataframe tbody tr th {\n",
       "        vertical-align: top;\n",
       "    }\n",
       "\n",
       "    .dataframe thead th {\n",
       "        text-align: right;\n",
       "    }\n",
       "</style>\n",
       "<table border=\"1\" class=\"dataframe\">\n",
       "  <thead>\n",
       "    <tr style=\"text-align: right;\">\n",
       "      <th></th>\n",
       "      <th>Destination Port</th>\n",
       "      <th>Flow Duration</th>\n",
       "      <th>Total Fwd Packets</th>\n",
       "      <th>Total Backward Packets</th>\n",
       "      <th>Total Length of Fwd Packets</th>\n",
       "      <th>Total Length of Bwd Packets</th>\n",
       "      <th>Fwd Packet Length Max</th>\n",
       "      <th>Fwd Packet Length Min</th>\n",
       "      <th>Fwd Packet Length Mean</th>\n",
       "      <th>Fwd Packet Length Std</th>\n",
       "      <th>...</th>\n",
       "      <th>min_seg_size_forward</th>\n",
       "      <th>Active Mean</th>\n",
       "      <th>Active Std</th>\n",
       "      <th>Active Max</th>\n",
       "      <th>Active Min</th>\n",
       "      <th>Idle Mean</th>\n",
       "      <th>Idle Std</th>\n",
       "      <th>Idle Max</th>\n",
       "      <th>Idle Min</th>\n",
       "      <th>Label</th>\n",
       "    </tr>\n",
       "  </thead>\n",
       "  <tbody>\n",
       "    <tr>\n",
       "      <th>0</th>\n",
       "      <td>54865</td>\n",
       "      <td>3.0</td>\n",
       "      <td>2.0</td>\n",
       "      <td>0.0</td>\n",
       "      <td>12.0</td>\n",
       "      <td>0.0</td>\n",
       "      <td>6.0</td>\n",
       "      <td>6.0</td>\n",
       "      <td>6.0</td>\n",
       "      <td>0.0</td>\n",
       "      <td>...</td>\n",
       "      <td>20.0</td>\n",
       "      <td>0.0</td>\n",
       "      <td>0.0</td>\n",
       "      <td>0.0</td>\n",
       "      <td>0.0</td>\n",
       "      <td>0.0</td>\n",
       "      <td>0.0</td>\n",
       "      <td>0.0</td>\n",
       "      <td>0.0</td>\n",
       "      <td>BENIGN</td>\n",
       "    </tr>\n",
       "    <tr>\n",
       "      <th>1</th>\n",
       "      <td>55054</td>\n",
       "      <td>109.0</td>\n",
       "      <td>1.0</td>\n",
       "      <td>1.0</td>\n",
       "      <td>6.0</td>\n",
       "      <td>6.0</td>\n",
       "      <td>6.0</td>\n",
       "      <td>6.0</td>\n",
       "      <td>6.0</td>\n",
       "      <td>0.0</td>\n",
       "      <td>...</td>\n",
       "      <td>20.0</td>\n",
       "      <td>0.0</td>\n",
       "      <td>0.0</td>\n",
       "      <td>0.0</td>\n",
       "      <td>0.0</td>\n",
       "      <td>0.0</td>\n",
       "      <td>0.0</td>\n",
       "      <td>0.0</td>\n",
       "      <td>0.0</td>\n",
       "      <td>BENIGN</td>\n",
       "    </tr>\n",
       "    <tr>\n",
       "      <th>2</th>\n",
       "      <td>55055</td>\n",
       "      <td>52.0</td>\n",
       "      <td>1.0</td>\n",
       "      <td>1.0</td>\n",
       "      <td>6.0</td>\n",
       "      <td>6.0</td>\n",
       "      <td>6.0</td>\n",
       "      <td>6.0</td>\n",
       "      <td>6.0</td>\n",
       "      <td>0.0</td>\n",
       "      <td>...</td>\n",
       "      <td>20.0</td>\n",
       "      <td>0.0</td>\n",
       "      <td>0.0</td>\n",
       "      <td>0.0</td>\n",
       "      <td>0.0</td>\n",
       "      <td>0.0</td>\n",
       "      <td>0.0</td>\n",
       "      <td>0.0</td>\n",
       "      <td>0.0</td>\n",
       "      <td>BENIGN</td>\n",
       "    </tr>\n",
       "    <tr>\n",
       "      <th>3</th>\n",
       "      <td>46236</td>\n",
       "      <td>34.0</td>\n",
       "      <td>1.0</td>\n",
       "      <td>1.0</td>\n",
       "      <td>6.0</td>\n",
       "      <td>6.0</td>\n",
       "      <td>6.0</td>\n",
       "      <td>6.0</td>\n",
       "      <td>6.0</td>\n",
       "      <td>0.0</td>\n",
       "      <td>...</td>\n",
       "      <td>20.0</td>\n",
       "      <td>0.0</td>\n",
       "      <td>0.0</td>\n",
       "      <td>0.0</td>\n",
       "      <td>0.0</td>\n",
       "      <td>0.0</td>\n",
       "      <td>0.0</td>\n",
       "      <td>0.0</td>\n",
       "      <td>0.0</td>\n",
       "      <td>BENIGN</td>\n",
       "    </tr>\n",
       "    <tr>\n",
       "      <th>4</th>\n",
       "      <td>54863</td>\n",
       "      <td>3.0</td>\n",
       "      <td>2.0</td>\n",
       "      <td>0.0</td>\n",
       "      <td>12.0</td>\n",
       "      <td>0.0</td>\n",
       "      <td>6.0</td>\n",
       "      <td>6.0</td>\n",
       "      <td>6.0</td>\n",
       "      <td>0.0</td>\n",
       "      <td>...</td>\n",
       "      <td>20.0</td>\n",
       "      <td>0.0</td>\n",
       "      <td>0.0</td>\n",
       "      <td>0.0</td>\n",
       "      <td>0.0</td>\n",
       "      <td>0.0</td>\n",
       "      <td>0.0</td>\n",
       "      <td>0.0</td>\n",
       "      <td>0.0</td>\n",
       "      <td>BENIGN</td>\n",
       "    </tr>\n",
       "  </tbody>\n",
       "</table>\n",
       "<p>5 rows × 79 columns</p>\n",
       "</div>"
      ],
      "text/plain": [
       "   Destination Port   Flow Duration   Total Fwd Packets  \\\n",
       "0             54865             3.0                 2.0   \n",
       "1             55054           109.0                 1.0   \n",
       "2             55055            52.0                 1.0   \n",
       "3             46236            34.0                 1.0   \n",
       "4             54863             3.0                 2.0   \n",
       "\n",
       "    Total Backward Packets  Total Length of Fwd Packets  \\\n",
       "0                      0.0                         12.0   \n",
       "1                      1.0                          6.0   \n",
       "2                      1.0                          6.0   \n",
       "3                      1.0                          6.0   \n",
       "4                      0.0                         12.0   \n",
       "\n",
       "    Total Length of Bwd Packets   Fwd Packet Length Max  \\\n",
       "0                           0.0                     6.0   \n",
       "1                           6.0                     6.0   \n",
       "2                           6.0                     6.0   \n",
       "3                           6.0                     6.0   \n",
       "4                           0.0                     6.0   \n",
       "\n",
       "    Fwd Packet Length Min   Fwd Packet Length Mean   Fwd Packet Length Std  \\\n",
       "0                     6.0                      6.0                     0.0   \n",
       "1                     6.0                      6.0                     0.0   \n",
       "2                     6.0                      6.0                     0.0   \n",
       "3                     6.0                      6.0                     0.0   \n",
       "4                     6.0                      6.0                     0.0   \n",
       "\n",
       "   ...   min_seg_size_forward  Active Mean   Active Std   Active Max  \\\n",
       "0  ...                   20.0          0.0          0.0          0.0   \n",
       "1  ...                   20.0          0.0          0.0          0.0   \n",
       "2  ...                   20.0          0.0          0.0          0.0   \n",
       "3  ...                   20.0          0.0          0.0          0.0   \n",
       "4  ...                   20.0          0.0          0.0          0.0   \n",
       "\n",
       "    Active Min  Idle Mean   Idle Std   Idle Max   Idle Min   Label  \n",
       "0          0.0        0.0        0.0        0.0        0.0  BENIGN  \n",
       "1          0.0        0.0        0.0        0.0        0.0  BENIGN  \n",
       "2          0.0        0.0        0.0        0.0        0.0  BENIGN  \n",
       "3          0.0        0.0        0.0        0.0        0.0  BENIGN  \n",
       "4          0.0        0.0        0.0        0.0        0.0  BENIGN  \n",
       "\n",
       "[5 rows x 79 columns]"
      ]
     },
     "execution_count": 2,
     "metadata": {},
     "output_type": "execute_result"
    }
   ],
   "source": [
    "dataframe=pd.read_csv('../input/cicids2017-full-dataset/combine.csv')\n",
    "dataframe.head()"
   ]
  },
  {
   "cell_type": "code",
   "execution_count": 3,
   "metadata": {},
   "outputs": [
    {
     "data": {
      "text/html": [
       "<div>\n",
       "<style scoped>\n",
       "    .dataframe tbody tr th:only-of-type {\n",
       "        vertical-align: middle;\n",
       "    }\n",
       "\n",
       "    .dataframe tbody tr th {\n",
       "        vertical-align: top;\n",
       "    }\n",
       "\n",
       "    .dataframe thead th {\n",
       "        text-align: right;\n",
       "    }\n",
       "</style>\n",
       "<table border=\"1\" class=\"dataframe\">\n",
       "  <thead>\n",
       "    <tr style=\"text-align: right;\">\n",
       "      <th></th>\n",
       "      <th>Destination Port</th>\n",
       "      <th>Flow Duration</th>\n",
       "      <th>Total Fwd Packets</th>\n",
       "      <th>Total Backward Packets</th>\n",
       "      <th>Total Length of Fwd Packets</th>\n",
       "      <th>Total Length of Bwd Packets</th>\n",
       "      <th>Fwd Packet Length Max</th>\n",
       "      <th>Fwd Packet Length Min</th>\n",
       "      <th>Fwd Packet Length Mean</th>\n",
       "      <th>Fwd Packet Length Std</th>\n",
       "      <th>...</th>\n",
       "      <th>min_seg_size_forward</th>\n",
       "      <th>Active Mean</th>\n",
       "      <th>Active Std</th>\n",
       "      <th>Active Max</th>\n",
       "      <th>Active Min</th>\n",
       "      <th>Idle Mean</th>\n",
       "      <th>Idle Std</th>\n",
       "      <th>Idle Max</th>\n",
       "      <th>Idle Min</th>\n",
       "      <th>Label</th>\n",
       "    </tr>\n",
       "  </thead>\n",
       "  <tbody>\n",
       "    <tr>\n",
       "      <th>954744</th>\n",
       "      <td>53</td>\n",
       "      <td>60564.0</td>\n",
       "      <td>1.0</td>\n",
       "      <td>1.0</td>\n",
       "      <td>61.0</td>\n",
       "      <td>107.0</td>\n",
       "      <td>61.0</td>\n",
       "      <td>61.0</td>\n",
       "      <td>61.000000</td>\n",
       "      <td>0.000000</td>\n",
       "      <td>...</td>\n",
       "      <td>20.0</td>\n",
       "      <td>0.0000</td>\n",
       "      <td>0.000000e+00</td>\n",
       "      <td>0.0</td>\n",
       "      <td>0.0</td>\n",
       "      <td>0.00</td>\n",
       "      <td>0.00000</td>\n",
       "      <td>0.0</td>\n",
       "      <td>0.0</td>\n",
       "      <td>BENIGN</td>\n",
       "    </tr>\n",
       "    <tr>\n",
       "      <th>1437237</th>\n",
       "      <td>5061</td>\n",
       "      <td>49.0</td>\n",
       "      <td>2.0</td>\n",
       "      <td>0.0</td>\n",
       "      <td>4.0</td>\n",
       "      <td>0.0</td>\n",
       "      <td>2.0</td>\n",
       "      <td>2.0</td>\n",
       "      <td>2.000000</td>\n",
       "      <td>0.000000</td>\n",
       "      <td>...</td>\n",
       "      <td>24.0</td>\n",
       "      <td>0.0000</td>\n",
       "      <td>0.000000e+00</td>\n",
       "      <td>0.0</td>\n",
       "      <td>0.0</td>\n",
       "      <td>0.00</td>\n",
       "      <td>0.00000</td>\n",
       "      <td>0.0</td>\n",
       "      <td>0.0</td>\n",
       "      <td>BENIGN</td>\n",
       "    </tr>\n",
       "    <tr>\n",
       "      <th>1033286</th>\n",
       "      <td>80</td>\n",
       "      <td>115127821.0</td>\n",
       "      <td>23.0</td>\n",
       "      <td>18.0</td>\n",
       "      <td>3077.0</td>\n",
       "      <td>1612.0</td>\n",
       "      <td>821.0</td>\n",
       "      <td>0.0</td>\n",
       "      <td>133.782609</td>\n",
       "      <td>257.603634</td>\n",
       "      <td>...</td>\n",
       "      <td>20.0</td>\n",
       "      <td>458735.6364</td>\n",
       "      <td>1.396072e+06</td>\n",
       "      <td>4668051.0</td>\n",
       "      <td>37683.0</td>\n",
       "      <td>10004003.55</td>\n",
       "      <td>23334.14423</td>\n",
       "      <td>10062966.0</td>\n",
       "      <td>9962216.0</td>\n",
       "      <td>BENIGN</td>\n",
       "    </tr>\n",
       "    <tr>\n",
       "      <th>1618471</th>\n",
       "      <td>80</td>\n",
       "      <td>2.0</td>\n",
       "      <td>2.0</td>\n",
       "      <td>0.0</td>\n",
       "      <td>0.0</td>\n",
       "      <td>0.0</td>\n",
       "      <td>0.0</td>\n",
       "      <td>0.0</td>\n",
       "      <td>0.000000</td>\n",
       "      <td>0.000000</td>\n",
       "      <td>...</td>\n",
       "      <td>32.0</td>\n",
       "      <td>0.0000</td>\n",
       "      <td>0.000000e+00</td>\n",
       "      <td>0.0</td>\n",
       "      <td>0.0</td>\n",
       "      <td>0.00</td>\n",
       "      <td>0.00000</td>\n",
       "      <td>0.0</td>\n",
       "      <td>0.0</td>\n",
       "      <td>DoS Hulk</td>\n",
       "    </tr>\n",
       "    <tr>\n",
       "      <th>1317058</th>\n",
       "      <td>80</td>\n",
       "      <td>47607023.0</td>\n",
       "      <td>79.0</td>\n",
       "      <td>143.0</td>\n",
       "      <td>2140.0</td>\n",
       "      <td>236750.0</td>\n",
       "      <td>471.0</td>\n",
       "      <td>0.0</td>\n",
       "      <td>27.088608</td>\n",
       "      <td>92.945833</td>\n",
       "      <td>...</td>\n",
       "      <td>20.0</td>\n",
       "      <td>413014.2500</td>\n",
       "      <td>7.958832e+05</td>\n",
       "      <td>1606839.0</td>\n",
       "      <td>15031.0</td>\n",
       "      <td>10000000.00</td>\n",
       "      <td>10057.54653</td>\n",
       "      <td>10000000.0</td>\n",
       "      <td>10000000.0</td>\n",
       "      <td>BENIGN</td>\n",
       "    </tr>\n",
       "  </tbody>\n",
       "</table>\n",
       "<p>5 rows × 79 columns</p>\n",
       "</div>"
      ],
      "text/plain": [
       "         Destination Port   Flow Duration   Total Fwd Packets  \\\n",
       "954744                 53         60564.0                 1.0   \n",
       "1437237              5061            49.0                 2.0   \n",
       "1033286                80     115127821.0                23.0   \n",
       "1618471                80             2.0                 2.0   \n",
       "1317058                80      47607023.0                79.0   \n",
       "\n",
       "          Total Backward Packets  Total Length of Fwd Packets  \\\n",
       "954744                       1.0                         61.0   \n",
       "1437237                      0.0                          4.0   \n",
       "1033286                     18.0                       3077.0   \n",
       "1618471                      0.0                          0.0   \n",
       "1317058                    143.0                       2140.0   \n",
       "\n",
       "          Total Length of Bwd Packets   Fwd Packet Length Max  \\\n",
       "954744                          107.0                    61.0   \n",
       "1437237                           0.0                     2.0   \n",
       "1033286                        1612.0                   821.0   \n",
       "1618471                           0.0                     0.0   \n",
       "1317058                      236750.0                   471.0   \n",
       "\n",
       "          Fwd Packet Length Min   Fwd Packet Length Mean  \\\n",
       "954744                     61.0                61.000000   \n",
       "1437237                     2.0                 2.000000   \n",
       "1033286                     0.0               133.782609   \n",
       "1618471                     0.0                 0.000000   \n",
       "1317058                     0.0                27.088608   \n",
       "\n",
       "          Fwd Packet Length Std  ...   min_seg_size_forward  Active Mean  \\\n",
       "954744                 0.000000  ...                   20.0       0.0000   \n",
       "1437237                0.000000  ...                   24.0       0.0000   \n",
       "1033286              257.603634  ...                   20.0  458735.6364   \n",
       "1618471                0.000000  ...                   32.0       0.0000   \n",
       "1317058               92.945833  ...                   20.0  413014.2500   \n",
       "\n",
       "           Active Std   Active Max   Active Min    Idle Mean     Idle Std  \\\n",
       "954744   0.000000e+00          0.0          0.0         0.00      0.00000   \n",
       "1437237  0.000000e+00          0.0          0.0         0.00      0.00000   \n",
       "1033286  1.396072e+06    4668051.0      37683.0  10004003.55  23334.14423   \n",
       "1618471  0.000000e+00          0.0          0.0         0.00      0.00000   \n",
       "1317058  7.958832e+05    1606839.0      15031.0  10000000.00  10057.54653   \n",
       "\n",
       "           Idle Max    Idle Min     Label  \n",
       "954744          0.0         0.0    BENIGN  \n",
       "1437237         0.0         0.0    BENIGN  \n",
       "1033286  10062966.0   9962216.0    BENIGN  \n",
       "1618471         0.0         0.0  DoS Hulk  \n",
       "1317058  10000000.0  10000000.0    BENIGN  \n",
       "\n",
       "[5 rows x 79 columns]"
      ]
     },
     "execution_count": 3,
     "metadata": {},
     "output_type": "execute_result"
    }
   ],
   "source": [
    "df=dataframe.sample(n=854321,replace=True)\n",
    "df.head()"
   ]
  },
  {
   "cell_type": "code",
   "execution_count": 4,
   "metadata": {},
   "outputs": [
    {
     "data": {
      "text/plain": [
       "(854321, 79)"
      ]
     },
     "execution_count": 4,
     "metadata": {},
     "output_type": "execute_result"
    }
   ],
   "source": [
    "df.shape"
   ]
  },
  {
   "cell_type": "code",
   "execution_count": 5,
   "metadata": {},
   "outputs": [
    {
     "name": "stdout",
     "output_type": "stream",
     "text": [
      "Label distribution:\n"
     ]
    },
    {
     "data": {
      "text/plain": [
       "BENIGN              645293\n",
       "DoS Hulk             89209\n",
       "PortScan             61232\n",
       "DDoS                 49386\n",
       "DoS GoldenEye         4072\n",
       "DoS slowloris         2277\n",
       "DoS Slowhttptest      2129\n",
       "Bot                    717\n",
       "Infiltration             4\n",
       "Heartbleed               2\n",
       "Name:  Label, dtype: int64"
      ]
     },
     "execution_count": 5,
     "metadata": {},
     "output_type": "execute_result"
    }
   ],
   "source": [
    "print('Label distribution:')\n",
    "df[' Label'].value_counts()"
   ]
  },
  {
   "cell_type": "code",
   "execution_count": 6,
   "metadata": {},
   "outputs": [
    {
     "data": {
      "text/plain": [
       "Flow Bytes/s    True\n",
       "dtype: bool"
      ]
     },
     "execution_count": 6,
     "metadata": {},
     "output_type": "execute_result"
    }
   ],
   "source": [
    "df.isna().any()[lambda x:x]"
   ]
  },
  {
   "cell_type": "code",
   "execution_count": 7,
   "metadata": {},
   "outputs": [],
   "source": [
    "del df['Flow Bytes/s']"
   ]
  },
  {
   "cell_type": "code",
   "execution_count": 8,
   "metadata": {},
   "outputs": [],
   "source": [
    "del df[' Flow Packets/s']"
   ]
  },
  {
   "cell_type": "code",
   "execution_count": 9,
   "metadata": {},
   "outputs": [
    {
     "data": {
      "text/plain": [
       "(854321, 77)"
      ]
     },
     "execution_count": 9,
     "metadata": {},
     "output_type": "execute_result"
    }
   ],
   "source": [
    "df.shape"
   ]
  },
  {
   "cell_type": "code",
   "execution_count": 10,
   "metadata": {},
   "outputs": [
    {
     "name": "stdout",
     "output_type": "stream",
     "text": [
      "<class 'pandas.core.frame.DataFrame'>\n",
      "Int64Index: 854321 entries, 954744 to 370133\n",
      "Data columns (total 77 columns):\n",
      " #   Column                        Non-Null Count   Dtype  \n",
      "---  ------                        --------------   -----  \n",
      " 0    Destination Port             854321 non-null  object \n",
      " 1    Flow Duration                854321 non-null  float64\n",
      " 2    Total Fwd Packets            854321 non-null  float64\n",
      " 3    Total Backward Packets       854321 non-null  float64\n",
      " 4   Total Length of Fwd Packets   854321 non-null  float64\n",
      " 5    Total Length of Bwd Packets  854321 non-null  float64\n",
      " 6    Fwd Packet Length Max        854321 non-null  float64\n",
      " 7    Fwd Packet Length Min        854321 non-null  float64\n",
      " 8    Fwd Packet Length Mean       854321 non-null  float64\n",
      " 9    Fwd Packet Length Std        854321 non-null  float64\n",
      " 10  Bwd Packet Length Max         854321 non-null  float64\n",
      " 11   Bwd Packet Length Min        854321 non-null  float64\n",
      " 12   Bwd Packet Length Mean       854321 non-null  float64\n",
      " 13   Bwd Packet Length Std        854321 non-null  float64\n",
      " 14   Flow IAT Mean                854321 non-null  float64\n",
      " 15   Flow IAT Std                 854321 non-null  float64\n",
      " 16   Flow IAT Max                 854321 non-null  float64\n",
      " 17   Flow IAT Min                 854321 non-null  float64\n",
      " 18  Fwd IAT Total                 854321 non-null  float64\n",
      " 19   Fwd IAT Mean                 854321 non-null  float64\n",
      " 20   Fwd IAT Std                  854321 non-null  float64\n",
      " 21   Fwd IAT Max                  854321 non-null  float64\n",
      " 22   Fwd IAT Min                  854321 non-null  float64\n",
      " 23  Bwd IAT Total                 854321 non-null  float64\n",
      " 24   Bwd IAT Mean                 854321 non-null  float64\n",
      " 25   Bwd IAT Std                  854321 non-null  float64\n",
      " 26   Bwd IAT Max                  854321 non-null  float64\n",
      " 27   Bwd IAT Min                  854321 non-null  float64\n",
      " 28  Fwd PSH Flags                 854321 non-null  float64\n",
      " 29   Bwd PSH Flags                854321 non-null  float64\n",
      " 30   Fwd URG Flags                854321 non-null  float64\n",
      " 31   Bwd URG Flags                854321 non-null  float64\n",
      " 32   Fwd Header Length            854321 non-null  float64\n",
      " 33   Bwd Header Length            854321 non-null  float64\n",
      " 34  Fwd Packets/s                 854321 non-null  float64\n",
      " 35   Bwd Packets/s                854321 non-null  float64\n",
      " 36   Min Packet Length            854321 non-null  float64\n",
      " 37   Max Packet Length            854321 non-null  float64\n",
      " 38   Packet Length Mean           854321 non-null  float64\n",
      " 39   Packet Length Std            854321 non-null  float64\n",
      " 40   Packet Length Variance       854321 non-null  float64\n",
      " 41  FIN Flag Count                854321 non-null  float64\n",
      " 42   SYN Flag Count               854321 non-null  float64\n",
      " 43   RST Flag Count               854321 non-null  float64\n",
      " 44   PSH Flag Count               854321 non-null  float64\n",
      " 45   ACK Flag Count               854321 non-null  float64\n",
      " 46   URG Flag Count               854321 non-null  float64\n",
      " 47   CWE Flag Count               854321 non-null  float64\n",
      " 48   ECE Flag Count               854321 non-null  float64\n",
      " 49   Down/Up Ratio                854321 non-null  float64\n",
      " 50   Average Packet Size          854321 non-null  float64\n",
      " 51   Avg Fwd Segment Size         854321 non-null  float64\n",
      " 52   Avg Bwd Segment Size         854321 non-null  float64\n",
      " 53   Fwd Header Length.1          854321 non-null  float64\n",
      " 54  Fwd Avg Bytes/Bulk            854321 non-null  float64\n",
      " 55   Fwd Avg Packets/Bulk         854321 non-null  float64\n",
      " 56   Fwd Avg Bulk Rate            854321 non-null  float64\n",
      " 57   Bwd Avg Bytes/Bulk           854321 non-null  float64\n",
      " 58   Bwd Avg Packets/Bulk         854321 non-null  float64\n",
      " 59  Bwd Avg Bulk Rate             854321 non-null  float64\n",
      " 60  Subflow Fwd Packets           854321 non-null  float64\n",
      " 61   Subflow Fwd Bytes            854321 non-null  float64\n",
      " 62   Subflow Bwd Packets          854321 non-null  float64\n",
      " 63   Subflow Bwd Bytes            854321 non-null  float64\n",
      " 64  Init_Win_bytes_forward        854321 non-null  float64\n",
      " 65   Init_Win_bytes_backward      854321 non-null  float64\n",
      " 66   act_data_pkt_fwd             854321 non-null  float64\n",
      " 67   min_seg_size_forward         854321 non-null  float64\n",
      " 68  Active Mean                   854321 non-null  float64\n",
      " 69   Active Std                   854321 non-null  float64\n",
      " 70   Active Max                   854321 non-null  float64\n",
      " 71   Active Min                   854321 non-null  float64\n",
      " 72  Idle Mean                     854321 non-null  float64\n",
      " 73   Idle Std                     854321 non-null  float64\n",
      " 74   Idle Max                     854321 non-null  float64\n",
      " 75   Idle Min                     854321 non-null  float64\n",
      " 76   Label                        854321 non-null  object \n",
      "dtypes: float64(75), object(2)\n",
      "memory usage: 508.4+ MB\n"
     ]
    }
   ],
   "source": [
    "df.info()"
   ]
  },
  {
   "cell_type": "code",
   "execution_count": 11,
   "metadata": {},
   "outputs": [
    {
     "data": {
      "text/html": [
       "<div>\n",
       "<style scoped>\n",
       "    .dataframe tbody tr th:only-of-type {\n",
       "        vertical-align: middle;\n",
       "    }\n",
       "\n",
       "    .dataframe tbody tr th {\n",
       "        vertical-align: top;\n",
       "    }\n",
       "\n",
       "    .dataframe thead th {\n",
       "        text-align: right;\n",
       "    }\n",
       "</style>\n",
       "<table border=\"1\" class=\"dataframe\">\n",
       "  <thead>\n",
       "    <tr style=\"text-align: right;\">\n",
       "      <th></th>\n",
       "      <th>Flow Duration</th>\n",
       "      <th>Total Fwd Packets</th>\n",
       "      <th>Total Backward Packets</th>\n",
       "      <th>Total Length of Fwd Packets</th>\n",
       "      <th>Total Length of Bwd Packets</th>\n",
       "      <th>Fwd Packet Length Max</th>\n",
       "      <th>Fwd Packet Length Min</th>\n",
       "      <th>Fwd Packet Length Mean</th>\n",
       "      <th>Fwd Packet Length Std</th>\n",
       "      <th>Bwd Packet Length Max</th>\n",
       "      <th>...</th>\n",
       "      <th>act_data_pkt_fwd</th>\n",
       "      <th>min_seg_size_forward</th>\n",
       "      <th>Active Mean</th>\n",
       "      <th>Active Std</th>\n",
       "      <th>Active Max</th>\n",
       "      <th>Active Min</th>\n",
       "      <th>Idle Mean</th>\n",
       "      <th>Idle Std</th>\n",
       "      <th>Idle Max</th>\n",
       "      <th>Idle Min</th>\n",
       "    </tr>\n",
       "  </thead>\n",
       "  <tbody>\n",
       "    <tr>\n",
       "      <th>count</th>\n",
       "      <td>8.543210e+05</td>\n",
       "      <td>854321.000000</td>\n",
       "      <td>854321.000000</td>\n",
       "      <td>8.543210e+05</td>\n",
       "      <td>8.543210e+05</td>\n",
       "      <td>854321.000000</td>\n",
       "      <td>854321.000000</td>\n",
       "      <td>854321.000000</td>\n",
       "      <td>854321.000000</td>\n",
       "      <td>854321.000000</td>\n",
       "      <td>...</td>\n",
       "      <td>854321.000000</td>\n",
       "      <td>8.543210e+05</td>\n",
       "      <td>8.543210e+05</td>\n",
       "      <td>8.543210e+05</td>\n",
       "      <td>8.543210e+05</td>\n",
       "      <td>8.543210e+05</td>\n",
       "      <td>8.543210e+05</td>\n",
       "      <td>8.543210e+05</td>\n",
       "      <td>8.543210e+05</td>\n",
       "      <td>8.543210e+05</td>\n",
       "    </tr>\n",
       "    <tr>\n",
       "      <th>mean</th>\n",
       "      <td>1.574390e+07</td>\n",
       "      <td>9.317416</td>\n",
       "      <td>10.290561</td>\n",
       "      <td>5.466026e+02</td>\n",
       "      <td>1.645900e+04</td>\n",
       "      <td>217.064394</td>\n",
       "      <td>18.120233</td>\n",
       "      <td>60.909668</td>\n",
       "      <td>74.229748</td>\n",
       "      <td>995.179078</td>\n",
       "      <td>...</td>\n",
       "      <td>6.429518</td>\n",
       "      <td>-5.629643e+02</td>\n",
       "      <td>8.311668e+04</td>\n",
       "      <td>3.937514e+04</td>\n",
       "      <td>1.488828e+05</td>\n",
       "      <td>6.020880e+04</td>\n",
       "      <td>9.677814e+06</td>\n",
       "      <td>5.936112e+05</td>\n",
       "      <td>1.012578e+07</td>\n",
       "      <td>9.220111e+06</td>\n",
       "    </tr>\n",
       "    <tr>\n",
       "      <th>std</th>\n",
       "      <td>3.444717e+07</td>\n",
       "      <td>813.078808</td>\n",
       "      <td>1077.843189</td>\n",
       "      <td>6.210197e+03</td>\n",
       "      <td>2.440942e+06</td>\n",
       "      <td>769.827485</td>\n",
       "      <td>66.178805</td>\n",
       "      <td>201.888773</td>\n",
       "      <td>307.018215</td>\n",
       "      <td>2134.541158</td>\n",
       "      <td>...</td>\n",
       "      <td>779.050355</td>\n",
       "      <td>2.223053e+05</td>\n",
       "      <td>6.433942e+05</td>\n",
       "      <td>3.874766e+05</td>\n",
       "      <td>1.000075e+06</td>\n",
       "      <td>5.702521e+05</td>\n",
       "      <td>2.569741e+07</td>\n",
       "      <td>5.048767e+06</td>\n",
       "      <td>2.648528e+07</td>\n",
       "      <td>2.542894e+07</td>\n",
       "    </tr>\n",
       "    <tr>\n",
       "      <th>min</th>\n",
       "      <td>-1.300000e+01</td>\n",
       "      <td>1.000000</td>\n",
       "      <td>0.000000</td>\n",
       "      <td>0.000000e+00</td>\n",
       "      <td>0.000000e+00</td>\n",
       "      <td>0.000000</td>\n",
       "      <td>0.000000</td>\n",
       "      <td>0.000000</td>\n",
       "      <td>0.000000</td>\n",
       "      <td>0.000000</td>\n",
       "      <td>...</td>\n",
       "      <td>0.000000</td>\n",
       "      <td>-8.388531e+07</td>\n",
       "      <td>0.000000e+00</td>\n",
       "      <td>0.000000e+00</td>\n",
       "      <td>0.000000e+00</td>\n",
       "      <td>0.000000e+00</td>\n",
       "      <td>0.000000e+00</td>\n",
       "      <td>0.000000e+00</td>\n",
       "      <td>0.000000e+00</td>\n",
       "      <td>0.000000e+00</td>\n",
       "    </tr>\n",
       "    <tr>\n",
       "      <th>25%</th>\n",
       "      <td>1.370000e+02</td>\n",
       "      <td>2.000000</td>\n",
       "      <td>1.000000</td>\n",
       "      <td>6.000000e+00</td>\n",
       "      <td>6.000000e+00</td>\n",
       "      <td>6.000000</td>\n",
       "      <td>0.000000</td>\n",
       "      <td>6.000000</td>\n",
       "      <td>0.000000</td>\n",
       "      <td>6.000000</td>\n",
       "      <td>...</td>\n",
       "      <td>0.000000</td>\n",
       "      <td>2.000000e+01</td>\n",
       "      <td>0.000000e+00</td>\n",
       "      <td>0.000000e+00</td>\n",
       "      <td>0.000000e+00</td>\n",
       "      <td>0.000000e+00</td>\n",
       "      <td>0.000000e+00</td>\n",
       "      <td>0.000000e+00</td>\n",
       "      <td>0.000000e+00</td>\n",
       "      <td>0.000000e+00</td>\n",
       "    </tr>\n",
       "    <tr>\n",
       "      <th>50%</th>\n",
       "      <td>3.132300e+04</td>\n",
       "      <td>2.000000</td>\n",
       "      <td>2.000000</td>\n",
       "      <td>6.000000e+01</td>\n",
       "      <td>1.200000e+02</td>\n",
       "      <td>36.000000</td>\n",
       "      <td>2.000000</td>\n",
       "      <td>33.000000</td>\n",
       "      <td>0.000000</td>\n",
       "      <td>77.000000</td>\n",
       "      <td>...</td>\n",
       "      <td>1.000000</td>\n",
       "      <td>2.400000e+01</td>\n",
       "      <td>0.000000e+00</td>\n",
       "      <td>0.000000e+00</td>\n",
       "      <td>0.000000e+00</td>\n",
       "      <td>0.000000e+00</td>\n",
       "      <td>0.000000e+00</td>\n",
       "      <td>0.000000e+00</td>\n",
       "      <td>0.000000e+00</td>\n",
       "      <td>0.000000e+00</td>\n",
       "    </tr>\n",
       "    <tr>\n",
       "      <th>75%</th>\n",
       "      <td>4.274490e+06</td>\n",
       "      <td>5.000000</td>\n",
       "      <td>5.000000</td>\n",
       "      <td>2.600000e+02</td>\n",
       "      <td>6.430000e+02</td>\n",
       "      <td>121.000000</td>\n",
       "      <td>34.000000</td>\n",
       "      <td>50.000000</td>\n",
       "      <td>26.646141</td>\n",
       "      <td>373.000000</td>\n",
       "      <td>...</td>\n",
       "      <td>2.000000</td>\n",
       "      <td>3.200000e+01</td>\n",
       "      <td>0.000000e+00</td>\n",
       "      <td>0.000000e+00</td>\n",
       "      <td>0.000000e+00</td>\n",
       "      <td>0.000000e+00</td>\n",
       "      <td>0.000000e+00</td>\n",
       "      <td>0.000000e+00</td>\n",
       "      <td>0.000000e+00</td>\n",
       "      <td>0.000000e+00</td>\n",
       "    </tr>\n",
       "    <tr>\n",
       "      <th>max</th>\n",
       "      <td>1.200000e+08</td>\n",
       "      <td>217797.000000</td>\n",
       "      <td>289585.000000</td>\n",
       "      <td>1.288022e+06</td>\n",
       "      <td>6.396506e+08</td>\n",
       "      <td>24820.000000</td>\n",
       "      <td>2325.000000</td>\n",
       "      <td>5940.857143</td>\n",
       "      <td>7049.469004</td>\n",
       "      <td>19530.000000</td>\n",
       "      <td>...</td>\n",
       "      <td>207409.000000</td>\n",
       "      <td>9.300000e+01</td>\n",
       "      <td>1.016597e+08</td>\n",
       "      <td>7.000000e+07</td>\n",
       "      <td>1.016597e+08</td>\n",
       "      <td>1.016597e+08</td>\n",
       "      <td>1.200000e+08</td>\n",
       "      <td>7.690000e+07</td>\n",
       "      <td>1.200000e+08</td>\n",
       "      <td>1.200000e+08</td>\n",
       "    </tr>\n",
       "  </tbody>\n",
       "</table>\n",
       "<p>8 rows × 75 columns</p>\n",
       "</div>"
      ],
      "text/plain": [
       "        Flow Duration   Total Fwd Packets   Total Backward Packets  \\\n",
       "count    8.543210e+05       854321.000000            854321.000000   \n",
       "mean     1.574390e+07            9.317416                10.290561   \n",
       "std      3.444717e+07          813.078808              1077.843189   \n",
       "min     -1.300000e+01            1.000000                 0.000000   \n",
       "25%      1.370000e+02            2.000000                 1.000000   \n",
       "50%      3.132300e+04            2.000000                 2.000000   \n",
       "75%      4.274490e+06            5.000000                 5.000000   \n",
       "max      1.200000e+08       217797.000000            289585.000000   \n",
       "\n",
       "       Total Length of Fwd Packets   Total Length of Bwd Packets  \\\n",
       "count                 8.543210e+05                  8.543210e+05   \n",
       "mean                  5.466026e+02                  1.645900e+04   \n",
       "std                   6.210197e+03                  2.440942e+06   \n",
       "min                   0.000000e+00                  0.000000e+00   \n",
       "25%                   6.000000e+00                  6.000000e+00   \n",
       "50%                   6.000000e+01                  1.200000e+02   \n",
       "75%                   2.600000e+02                  6.430000e+02   \n",
       "max                   1.288022e+06                  6.396506e+08   \n",
       "\n",
       "        Fwd Packet Length Max   Fwd Packet Length Min  \\\n",
       "count           854321.000000           854321.000000   \n",
       "mean               217.064394               18.120233   \n",
       "std                769.827485               66.178805   \n",
       "min                  0.000000                0.000000   \n",
       "25%                  6.000000                0.000000   \n",
       "50%                 36.000000                2.000000   \n",
       "75%                121.000000               34.000000   \n",
       "max              24820.000000             2325.000000   \n",
       "\n",
       "        Fwd Packet Length Mean   Fwd Packet Length Std  Bwd Packet Length Max  \\\n",
       "count            854321.000000           854321.000000          854321.000000   \n",
       "mean                 60.909668               74.229748             995.179078   \n",
       "std                 201.888773              307.018215            2134.541158   \n",
       "min                   0.000000                0.000000               0.000000   \n",
       "25%                   6.000000                0.000000               6.000000   \n",
       "50%                  33.000000                0.000000              77.000000   \n",
       "75%                  50.000000               26.646141             373.000000   \n",
       "max                5940.857143             7049.469004           19530.000000   \n",
       "\n",
       "       ...   act_data_pkt_fwd   min_seg_size_forward   Active Mean  \\\n",
       "count  ...      854321.000000           8.543210e+05  8.543210e+05   \n",
       "mean   ...           6.429518          -5.629643e+02  8.311668e+04   \n",
       "std    ...         779.050355           2.223053e+05  6.433942e+05   \n",
       "min    ...           0.000000          -8.388531e+07  0.000000e+00   \n",
       "25%    ...           0.000000           2.000000e+01  0.000000e+00   \n",
       "50%    ...           1.000000           2.400000e+01  0.000000e+00   \n",
       "75%    ...           2.000000           3.200000e+01  0.000000e+00   \n",
       "max    ...      207409.000000           9.300000e+01  1.016597e+08   \n",
       "\n",
       "         Active Std    Active Max    Active Min     Idle Mean      Idle Std  \\\n",
       "count  8.543210e+05  8.543210e+05  8.543210e+05  8.543210e+05  8.543210e+05   \n",
       "mean   3.937514e+04  1.488828e+05  6.020880e+04  9.677814e+06  5.936112e+05   \n",
       "std    3.874766e+05  1.000075e+06  5.702521e+05  2.569741e+07  5.048767e+06   \n",
       "min    0.000000e+00  0.000000e+00  0.000000e+00  0.000000e+00  0.000000e+00   \n",
       "25%    0.000000e+00  0.000000e+00  0.000000e+00  0.000000e+00  0.000000e+00   \n",
       "50%    0.000000e+00  0.000000e+00  0.000000e+00  0.000000e+00  0.000000e+00   \n",
       "75%    0.000000e+00  0.000000e+00  0.000000e+00  0.000000e+00  0.000000e+00   \n",
       "max    7.000000e+07  1.016597e+08  1.016597e+08  1.200000e+08  7.690000e+07   \n",
       "\n",
       "           Idle Max      Idle Min  \n",
       "count  8.543210e+05  8.543210e+05  \n",
       "mean   1.012578e+07  9.220111e+06  \n",
       "std    2.648528e+07  2.542894e+07  \n",
       "min    0.000000e+00  0.000000e+00  \n",
       "25%    0.000000e+00  0.000000e+00  \n",
       "50%    0.000000e+00  0.000000e+00  \n",
       "75%    0.000000e+00  0.000000e+00  \n",
       "max    1.200000e+08  1.200000e+08  \n",
       "\n",
       "[8 rows x 75 columns]"
      ]
     },
     "execution_count": 11,
     "metadata": {},
     "output_type": "execute_result"
    }
   ],
   "source": [
    "df.describe()"
   ]
  },
  {
   "cell_type": "code",
   "execution_count": 12,
   "metadata": {},
   "outputs": [
    {
     "data": {
      "text/plain": [
       "(854321, 77)"
      ]
     },
     "execution_count": 12,
     "metadata": {},
     "output_type": "execute_result"
    }
   ],
   "source": [
    "moddf= df.dropna()\n",
    "moddf.shape"
   ]
  },
  {
   "cell_type": "code",
   "execution_count": 13,
   "metadata": {},
   "outputs": [
    {
     "name": "stdout",
     "output_type": "stream",
     "text": [
      "(683456, 77)\n",
      "(170865, 77)\n"
     ]
    }
   ],
   "source": [
    "from sklearn.model_selection import train_test_split\n",
    "df_train, df_test=train_test_split(moddf,test_size = 0.20)\n",
    "print(df_train.shape)\n",
    "print(df_test.shape)"
   ]
  },
  {
   "cell_type": "code",
   "execution_count": 14,
   "metadata": {},
   "outputs": [
    {
     "name": "stdout",
     "output_type": "stream",
     "text": [
      "Label distribution Training set:\n",
      "BENIGN              516494\n",
      "DoS Hulk             71159\n",
      "PortScan             48974\n",
      "DDoS                 39442\n",
      "DoS GoldenEye         3230\n",
      "DoS slowloris         1835\n",
      "DoS Slowhttptest      1744\n",
      "Bot                    575\n",
      "Infiltration             2\n",
      "Heartbleed               1\n",
      "Name:  Label, dtype: int64\n",
      "\n",
      "Label distribution Test set:\n",
      "BENIGN              128799\n",
      "DoS Hulk             18050\n",
      "PortScan             12258\n",
      "DDoS                  9944\n",
      "DoS GoldenEye          842\n",
      "DoS slowloris          442\n",
      "DoS Slowhttptest       385\n",
      "Bot                    142\n",
      "Infiltration             2\n",
      "Heartbleed               1\n",
      "Name:  Label, dtype: int64\n"
     ]
    }
   ],
   "source": [
    "print('Label distribution Training set:')\n",
    "print(df_train[' Label'].value_counts())\n",
    "print()\n",
    "print('Label distribution Test set:')\n",
    "print(df_test[' Label'].value_counts())"
   ]
  },
  {
   "cell_type": "code",
   "execution_count": 15,
   "metadata": {},
   "outputs": [
    {
     "name": "stdout",
     "output_type": "stream",
     "text": [
      "969522     0\n",
      "1329024    0\n",
      "950548     0\n",
      "88201      2\n",
      "1772961    2\n",
      "Name:  Label, dtype: int64\n",
      "268936     0\n",
      "772215     0\n",
      "892489     0\n",
      "1347289    0\n",
      "1948989    0\n",
      "Name:  Label, dtype: int64\n"
     ]
    },
    {
     "name": "stderr",
     "output_type": "stream",
     "text": [
      "/opt/conda/lib/python3.7/site-packages/ipykernel_launcher.py:7: SettingWithCopyWarning: \n",
      "A value is trying to be set on a copy of a slice from a DataFrame.\n",
      "Try using .loc[row_indexer,col_indexer] = value instead\n",
      "\n",
      "See the caveats in the documentation: https://pandas.pydata.org/pandas-docs/stable/user_guide/indexing.html#returning-a-view-versus-a-copy\n",
      "  import sys\n",
      "/opt/conda/lib/python3.7/site-packages/ipykernel_launcher.py:8: SettingWithCopyWarning: \n",
      "A value is trying to be set on a copy of a slice from a DataFrame.\n",
      "Try using .loc[row_indexer,col_indexer] = value instead\n",
      "\n",
      "See the caveats in the documentation: https://pandas.pydata.org/pandas-docs/stable/user_guide/indexing.html#returning-a-view-versus-a-copy\n",
      "  \n"
     ]
    }
   ],
   "source": [
    "labeldf=df_train[' Label']\n",
    "labeldf_test=df_test[' Label']\n",
    "#change the label column\n",
    "newlabeldf=labeldf.replace({ 'BENIGN' : 0, 'DoS Hulk' : 2,'PortScan' : 4,'DDoS' : 2,'DoS GoldenEye' : 2,'DoS slowloris' : 2,'DoS Slowhttptest' : 2,'Bot' : 1,'Infiltration' : 3,'Heartbleed' : 2})\n",
    "newlabeldf_test=labeldf_test.replace({ 'BENIGN' : 0, 'DoS Hulk' : 2,'PortScan' : 4,'DDoS' : 2,'DoS GoldenEye' : 2,'DoS slowloris' : 2,'DoS Slowhttptest' : 2,'Bot' : 1,'Infiltration' : 3,'Heartbleed' : 2})\n",
    "# put the new label column back\n",
    "df_train[' Label'] = newlabeldf\n",
    "df_test[' Label'] = newlabeldf_test\n",
    "print(df_train[' Label'].head())\n",
    "print(df_test[' Label'].head())"
   ]
  },
  {
   "cell_type": "code",
   "execution_count": 16,
   "metadata": {},
   "outputs": [
    {
     "name": "stdout",
     "output_type": "stream",
     "text": [
      "Train:\n",
      "Dimensions of Bot: (517069, 77)\n",
      "Dimensions of DoS: (633905, 77)\n",
      "Dimensions of Infiltration: (516496, 77)\n",
      "Dimensions of PortScan: (565468, 77)\n",
      "Test:\n",
      "Dimensions of Bot: (128941, 77)\n",
      "Dimensions of DoS: (158463, 77)\n",
      "Dimensions of Infiltration: (128801, 77)\n",
      "Dimensions of PortScan: (141057, 77)\n"
     ]
    }
   ],
   "source": [
    "to_drop_Bot = [2,3,4]\n",
    "to_drop_DoS = [1,3,4]\n",
    "to_drop_Infiltration = [1,2,4]\n",
    "to_drop_PortScan = [1,2,3]\n",
    "Bot_df=df_train[~df_train[' Label'].isin(to_drop_Bot)];\n",
    "DoS_df=df_train[~df_train[' Label'].isin(to_drop_DoS)];\n",
    "Infiltration_df=df_train[~df_train[' Label'].isin(to_drop_Infiltration)];\n",
    "PortScan_df=df_train[~df_train[' Label'].isin(to_drop_PortScan)];\n",
    "\n",
    "#test\n",
    "Bot_df_test=df_test[~df_test[' Label'].isin(to_drop_Bot)];\n",
    "DoS_df_test=df_test[~df_test[' Label'].isin(to_drop_DoS)];\n",
    "Infiltration_df_test=df_test[~df_test[' Label'].isin(to_drop_Infiltration)];\n",
    "PortScan_df_test=df_test[~df_test[' Label'].isin(to_drop_PortScan)];\n",
    "print('Train:')\n",
    "print('Dimensions of Bot:' ,Bot_df.shape)\n",
    "print('Dimensions of DoS:' ,DoS_df.shape)\n",
    "print('Dimensions of Infiltration:' ,Infiltration_df.shape)\n",
    "print('Dimensions of PortScan:' ,PortScan_df.shape)\n",
    "print('Test:')\n",
    "print('Dimensions of Bot:' ,Bot_df_test.shape)\n",
    "print('Dimensions of DoS:' ,DoS_df_test.shape)\n",
    "print('Dimensions of Infiltration:' ,Infiltration_df_test.shape)\n",
    "print('Dimensions of PortScan:' ,PortScan_df_test.shape)"
   ]
  },
  {
   "cell_type": "code",
   "execution_count": 17,
   "metadata": {},
   "outputs": [],
   "source": [
    "# Split dataframes into X & Y\n",
    "# assign X as a dataframe of feautures and Y as a series of outcome variables\n",
    "X_Bot = Bot_df.drop(' Label',1)\n",
    "Y_Bot = Bot_df[' Label']\n",
    "X_DoS = DoS_df.drop(' Label',1)\n",
    "Y_DoS = DoS_df[' Label']\n",
    "X_Infiltration = Infiltration_df.drop(' Label',1)\n",
    "Y_Infiltration = Infiltration_df[' Label']\n",
    "X_PortScan = PortScan_df.drop(' Label',1)\n",
    "Y_PortScan = PortScan_df[' Label']\n"
   ]
  },
  {
   "cell_type": "code",
   "execution_count": 18,
   "metadata": {},
   "outputs": [],
   "source": [
    "# test set\n",
    "X_Bot_test = Bot_df_test.drop(' Label',1)\n",
    "Y_Bot_test = Bot_df_test[' Label']\n",
    "X_DoS_test = DoS_df_test.drop(' Label',1)\n",
    "Y_DoS_test = DoS_df_test[' Label']\n",
    "X_Infiltration_test = Infiltration_df_test.drop(' Label',1)\n",
    "Y_Infiltration_test = Infiltration_df_test[' Label']\n",
    "X_PortScan_test = PortScan_df_test.drop(' Label',1)\n",
    "Y_PortScan_test = PortScan_df_test[' Label']"
   ]
  },
  {
   "cell_type": "code",
   "execution_count": 19,
   "metadata": {},
   "outputs": [],
   "source": [
    "colNames=list(X_Bot)\n",
    "colNames_test=list(X_Bot_test)"
   ]
  },
  {
   "cell_type": "code",
   "execution_count": 20,
   "metadata": {},
   "outputs": [],
   "source": [
    "from sklearn import preprocessing\n",
    "scaler1 = preprocessing.StandardScaler().fit(X_Bot)\n",
    "X_Bot=scaler1.transform(X_Bot) \n",
    "\n",
    "\n"
   ]
  },
  {
   "cell_type": "code",
   "execution_count": 21,
   "metadata": {},
   "outputs": [],
   "source": [
    "scaler2 = preprocessing.StandardScaler().fit(X_DoS)\n",
    "X_DoS=scaler2.transform(X_DoS) "
   ]
  },
  {
   "cell_type": "code",
   "execution_count": 22,
   "metadata": {},
   "outputs": [],
   "source": [
    "scaler3 = preprocessing.StandardScaler().fit(X_Infiltration)\n",
    "X_Infiltration=scaler3.transform(X_Infiltration) "
   ]
  },
  {
   "cell_type": "code",
   "execution_count": 23,
   "metadata": {},
   "outputs": [],
   "source": [
    "scaler4 = preprocessing.StandardScaler().fit(X_PortScan)\n",
    "X_PortScan=scaler4.transform(X_PortScan) \n"
   ]
  },
  {
   "cell_type": "code",
   "execution_count": 24,
   "metadata": {},
   "outputs": [],
   "source": [
    "# test data\n",
    "scaler5 = preprocessing.StandardScaler().fit(X_Bot_test)\n",
    "X_Bot_test=scaler5.transform(X_Bot_test) \n",
    "scaler6 = preprocessing.StandardScaler().fit(X_DoS_test)\n",
    "X_DoS_test=scaler6.transform(X_DoS_test) \n",
    "scaler7 = preprocessing.StandardScaler().fit(X_Infiltration_test)\n",
    "X_Infiltration_test=scaler7.transform(X_Infiltration_test) \n",
    "scaler8 = preprocessing.StandardScaler().fit(X_PortScan_test)\n",
    "X_PortScan_test=scaler8.transform(X_PortScan_test) "
   ]
  },
  {
   "cell_type": "code",
   "execution_count": 25,
   "metadata": {},
   "outputs": [
    {
     "name": "stdout",
     "output_type": "stream",
     "text": [
      "[1. 1. 1. 1. 1. 1. 1. 1. 1. 1. 1. 1. 1. 1. 1. 1. 1. 1. 1. 1. 1. 1. 1. 1.\n",
      " 1. 1. 1. 1. 1. 0. 1. 0. 1. 1. 1. 1. 1. 1. 1. 1. 1. 1. 1. 1. 1. 1. 1. 1.\n",
      " 1. 1. 1. 1. 1. 1. 0. 0. 0. 0. 0. 0. 1. 1. 1. 1. 1. 1. 1. 1. 1. 1. 1. 1.\n",
      " 1. 1. 1. 1.]\n"
     ]
    }
   ],
   "source": [
    "print(X_Bot.std(axis=0))"
   ]
  },
  {
   "cell_type": "code",
   "execution_count": 26,
   "metadata": {},
   "outputs": [],
   "source": [
    "X_DoS.std(axis=0);\n",
    "X_Infiltration.std(axis=0);\n",
    "X_PortScan.std(axis=0);"
   ]
  },
  {
   "cell_type": "code",
   "execution_count": 27,
   "metadata": {},
   "outputs": [
    {
     "name": "stderr",
     "output_type": "stream",
     "text": [
      "/opt/conda/lib/python3.7/site-packages/sklearn/feature_selection/_univariate_selection.py:114: UserWarning: Features [29 31 54 55 56 57 58 59] are constant.\n",
      "  UserWarning)\n"
     ]
    },
    {
     "data": {
      "text/plain": [
       "(517069, 8)"
      ]
     },
     "execution_count": 27,
     "metadata": {},
     "output_type": "execute_result"
    }
   ],
   "source": [
    "#univariate feature selection with ANOVA F-test. using secondPercentile method, then RFE\n",
    "#Scikit-learn exposes feature selection routines as objects that implement the transform method\n",
    "#SelectPercentile: removes all but a user-specified highest scoring percentage of features\n",
    "#f_classif: ANOVA F-value between label/feature for classification tasks.\n",
    "from sklearn.feature_selection import SelectPercentile, f_classif\n",
    "np.seterr(divide='ignore', invalid='ignore');\n",
    "selector=SelectPercentile(f_classif, percentile=10)\n",
    "X_newBot = selector.fit_transform(X_Bot,Y_Bot)\n",
    "X_newBot.shape"
   ]
  },
  {
   "cell_type": "code",
   "execution_count": 28,
   "metadata": {},
   "outputs": [
    {
     "data": {
      "text/plain": [
       "[' Flow Duration',\n",
       " 'Bwd Packet Length Max',\n",
       " ' Bwd Packet Length Min',\n",
       " ' Bwd Packet Length Mean',\n",
       " ' Min Packet Length',\n",
       " ' PSH Flag Count',\n",
       " ' URG Flag Count',\n",
       " ' Avg Bwd Segment Size']"
      ]
     },
     "execution_count": 28,
     "metadata": {},
     "output_type": "execute_result"
    }
   ],
   "source": [
    "true=selector.get_support()\n",
    "newcolindex_Bot=[i for i, x in enumerate(true) if x]\n",
    "newcolname_Bot=list( colNames[i] for i in newcolindex_Bot )\n",
    "newcolname_Bot"
   ]
  },
  {
   "cell_type": "code",
   "execution_count": 29,
   "metadata": {},
   "outputs": [
    {
     "name": "stderr",
     "output_type": "stream",
     "text": [
      "/opt/conda/lib/python3.7/site-packages/sklearn/feature_selection/_univariate_selection.py:114: UserWarning: Features [29 31 54 55 56 57 58 59] are constant.\n",
      "  UserWarning)\n"
     ]
    },
    {
     "data": {
      "text/plain": [
       "(633905, 8)"
      ]
     },
     "execution_count": 29,
     "metadata": {},
     "output_type": "execute_result"
    }
   ],
   "source": [
    "X_newDoS = selector.fit_transform(X_DoS,Y_DoS)\n",
    "X_newDoS.shape"
   ]
  },
  {
   "cell_type": "markdown",
   "execution_count": null,
   "metadata": {},
   "source": [
    "Get the features that were selected: DoS"
   ]
  },
  {
   "cell_type": "code",
   "execution_count": 30,
   "metadata": {},
   "outputs": [
    {
     "data": {
      "text/plain": [
       "['Bwd Packet Length Max',\n",
       " ' Bwd Packet Length Mean',\n",
       " ' Bwd Packet Length Std',\n",
       " ' Max Packet Length',\n",
       " ' Packet Length Mean',\n",
       " ' Packet Length Std',\n",
       " ' Average Packet Size',\n",
       " ' Avg Bwd Segment Size']"
      ]
     },
     "execution_count": 30,
     "metadata": {},
     "output_type": "execute_result"
    }
   ],
   "source": [
    "true=selector.get_support()\n",
    "newcolindex_DoS=[i for i, x in enumerate(true) if x]\n",
    "newcolname_DoS=list( colNames[i] for i in newcolindex_DoS )\n",
    "newcolname_DoS"
   ]
  },
  {
   "cell_type": "code",
   "execution_count": 31,
   "metadata": {},
   "outputs": [
    {
     "name": "stderr",
     "output_type": "stream",
     "text": [
      "/opt/conda/lib/python3.7/site-packages/sklearn/feature_selection/_univariate_selection.py:114: UserWarning: Features [29 31 54 55 56 57 58 59] are constant.\n",
      "  UserWarning)\n"
     ]
    },
    {
     "data": {
      "text/plain": [
       "(516496, 7)"
      ]
     },
     "execution_count": 31,
     "metadata": {},
     "output_type": "execute_result"
    }
   ],
   "source": [
    "X_newInfiltration = selector.fit_transform(X_Infiltration,Y_Infiltration)\n",
    "X_newInfiltration.shape"
   ]
  },
  {
   "cell_type": "code",
   "execution_count": 32,
   "metadata": {},
   "outputs": [
    {
     "data": {
      "text/plain": [
       "['Total Length of Fwd Packets',\n",
       " ' Bwd IAT Max',\n",
       " ' Subflow Fwd Bytes',\n",
       " 'Active Mean',\n",
       " ' Active Std',\n",
       " ' Active Max',\n",
       " ' Active Min']"
      ]
     },
     "execution_count": 32,
     "metadata": {},
     "output_type": "execute_result"
    }
   ],
   "source": [
    "true=selector.get_support()\n",
    "newcolindex_Infiltration=[i for i, x in enumerate(true) if x]\n",
    "newcolname_Infiltration=list( colNames[i] for i in newcolindex_Infiltration)\n",
    "newcolname_Infiltration"
   ]
  },
  {
   "cell_type": "code",
   "execution_count": 33,
   "metadata": {},
   "outputs": [
    {
     "name": "stderr",
     "output_type": "stream",
     "text": [
      "/opt/conda/lib/python3.7/site-packages/sklearn/feature_selection/_univariate_selection.py:114: UserWarning: Features [29 31 54 55 56 57 58 59] are constant.\n",
      "  UserWarning)\n"
     ]
    },
    {
     "data": {
      "text/plain": [
       "(565468, 8)"
      ]
     },
     "execution_count": 33,
     "metadata": {},
     "output_type": "execute_result"
    }
   ],
   "source": [
    "X_newPortScan = selector.fit_transform(X_PortScan,Y_PortScan)\n",
    "X_newPortScan.shape"
   ]
  },
  {
   "cell_type": "code",
   "execution_count": 34,
   "metadata": {},
   "outputs": [
    {
     "data": {
      "text/plain": [
       "[' Bwd Packet Length Min',\n",
       " ' Bwd Packet Length Mean',\n",
       " ' Bwd Packets/s',\n",
       " ' Min Packet Length',\n",
       " ' Packet Length Mean',\n",
       " ' PSH Flag Count',\n",
       " ' ACK Flag Count',\n",
       " ' Average Packet Size']"
      ]
     },
     "execution_count": 34,
     "metadata": {},
     "output_type": "execute_result"
    }
   ],
   "source": [
    "true=selector.get_support()\n",
    "newcolindex_PortScan=[i for i, x in enumerate(true) if x]\n",
    "newcolname_PortScan=list( colNames[i] for i in newcolindex_PortScan)\n",
    "newcolname_PortScan"
   ]
  },
  {
   "cell_type": "code",
   "execution_count": 35,
   "metadata": {},
   "outputs": [
    {
     "name": "stdout",
     "output_type": "stream",
     "text": [
      "Features selected for DoS: [' Flow Duration', 'Bwd Packet Length Max', ' Bwd Packet Length Min', ' Bwd Packet Length Mean', ' Min Packet Length', ' PSH Flag Count', ' URG Flag Count', ' Avg Bwd Segment Size']\n",
      "\n",
      "Features selected for Probe: ['Bwd Packet Length Max', ' Bwd Packet Length Mean', ' Bwd Packet Length Std', ' Max Packet Length', ' Packet Length Mean', ' Packet Length Std', ' Average Packet Size', ' Avg Bwd Segment Size']\n",
      "\n",
      "Features selected for R2L: ['Total Length of Fwd Packets', ' Bwd IAT Max', ' Subflow Fwd Bytes', 'Active Mean', ' Active Std', ' Active Max', ' Active Min']\n",
      "\n",
      "Features selected for U2R: [' Bwd Packet Length Min', ' Bwd Packet Length Mean', ' Bwd Packets/s', ' Min Packet Length', ' Packet Length Mean', ' PSH Flag Count', ' ACK Flag Count', ' Average Packet Size']\n"
     ]
    }
   ],
   "source": [
    "print('Features selected for DoS:',newcolname_Bot)\n",
    "print()\n",
    "print('Features selected for Probe:',newcolname_DoS)\n",
    "print()\n",
    "print('Features selected for R2L:',newcolname_Infiltration)\n",
    "print()\n",
    "print('Features selected for U2R:',newcolname_PortScan)"
   ]
  },
  {
   "cell_type": "code",
   "execution_count": 36,
   "metadata": {},
   "outputs": [
    {
     "data": {
      "text/plain": [
       "'from sklearn import preprocessing\\nfrom sklearn import utils\\n\\nlab_enc = preprocessing.LabelEncoder()\\nencoded = lab_enc.fit_transform(Y_Bot) '"
      ]
     },
     "execution_count": 36,
     "metadata": {},
     "output_type": "execute_result"
    }
   ],
   "source": [
    "'''from sklearn import preprocessing\n",
    "from sklearn import utils\n",
    "\n",
    "lab_enc = preprocessing.LabelEncoder()\n",
    "encoded = lab_enc.fit_transform(Y_Bot) '''\n"
   ]
  },
  {
   "cell_type": "code",
   "execution_count": 37,
   "metadata": {},
   "outputs": [],
   "source": [
    "Y_Bot=Y_Bot.astype('int')\n",
    "Y_DoS=Y_DoS.astype('int')\n",
    "Y_Infiltration=Y_Infiltration.astype('int')\n",
    "Y_PortScan=Y_PortScan.astype('int')"
   ]
  },
  {
   "cell_type": "code",
   "execution_count": 38,
   "metadata": {},
   "outputs": [
    {
     "name": "stdout",
     "output_type": "stream",
     "text": [
      "Bot Features sorted by their rank:\n",
      "[(1, ' Avg Bwd Segment Size'), (2, ' Flow Duration'), (3, 'Bwd Packet Length Max'), (4, ' PSH Flag Count'), (5, ' Bwd Packet Length Mean'), (6, ' URG Flag Count'), (7, ' Min Packet Length'), (8, ' Bwd Packet Length Min')]\n"
     ]
    }
   ],
   "source": [
    "from sklearn.feature_selection import RFE\n",
    "from sklearn.tree import DecisionTreeClassifier\n",
    "# Create a decision tree classifier. By convention, clf means 'classifier'\n",
    "clf = DecisionTreeClassifier(random_state=0)\n",
    "\n",
    "#rank all features, i.e continue the elimination until the last one\n",
    "rfe = RFE(clf, n_features_to_select=1)\n",
    "rfe.fit(X_newBot, Y_Bot)\n",
    "print (\"Bot Features sorted by their rank:\")\n",
    "print (sorted(zip(map(lambda x: round(x, 4), rfe.ranking_), newcolname_Bot)))"
   ]
  },
  {
   "cell_type": "code",
   "execution_count": 39,
   "metadata": {},
   "outputs": [
    {
     "name": "stdout",
     "output_type": "stream",
     "text": [
      "DoS Features sorted by their rank:\n",
      "[(1, ' Bwd Packet Length Std'), (2, ' Average Packet Size'), (3, ' Avg Bwd Segment Size'), (4, ' Packet Length Std'), (5, ' Packet Length Mean'), (6, ' Max Packet Length'), (7, ' Bwd Packet Length Mean'), (8, 'Bwd Packet Length Max')]\n"
     ]
    }
   ],
   "source": [
    "rfe.fit(X_newDoS, Y_DoS)\n",
    "print (\"DoS Features sorted by their rank:\")\n",
    "print (sorted(zip(map(lambda x: round(x, 4), rfe.ranking_), newcolname_DoS)))"
   ]
  },
  {
   "cell_type": "code",
   "execution_count": 40,
   "metadata": {},
   "outputs": [
    {
     "name": "stdout",
     "output_type": "stream",
     "text": [
      "Infiltration Features sorted by their rank:\n",
      "[(1, ' Active Max'), (2, ' Bwd IAT Max'), (3, ' Subflow Fwd Bytes'), (4, ' Active Min'), (5, 'Active Mean'), (6, 'Total Length of Fwd Packets'), (7, ' Active Std')]\n"
     ]
    }
   ],
   "source": [
    "rfe.fit(X_newInfiltration, Y_Infiltration)\n",
    " \n",
    "print (\"Infiltration Features sorted by their rank:\")\n",
    "print (sorted(zip(map(lambda x: round(x, 4), rfe.ranking_), newcolname_Infiltration)))"
   ]
  },
  {
   "cell_type": "code",
   "execution_count": 41,
   "metadata": {},
   "outputs": [
    {
     "name": "stdout",
     "output_type": "stream",
     "text": [
      "PortScan Features sorted by their rank:\n",
      "[(1, ' Bwd Packet Length Min'), (2, ' Packet Length Mean'), (3, ' Bwd Packets/s'), (4, ' PSH Flag Count'), (5, ' Average Packet Size'), (6, ' Min Packet Length'), (7, ' Bwd Packet Length Mean'), (8, ' ACK Flag Count')]\n"
     ]
    }
   ],
   "source": [
    "rfe.fit(X_newPortScan, Y_PortScan)\n",
    " \n",
    "print (\"PortScan Features sorted by their rank:\")\n",
    "print (sorted(zip(map(lambda x: round(x, 4), rfe.ranking_), newcolname_PortScan)))"
   ]
  },
  {
   "cell_type": "markdown",
   "execution_count": null,
   "metadata": {},
   "source": [
    "Recursive Feature Elimination, select 13 features each of 122 (Option 2: get 13 best features from 122 from RFE)"
   ]
  },
  {
   "cell_type": "code",
   "execution_count": 42,
   "metadata": {},
   "outputs": [],
   "source": [
    "from sklearn.feature_selection import RFE\n",
    "clf = DecisionTreeClassifier(random_state=0)\n",
    "rfe = RFE(estimator=clf, n_features_to_select=8, step=1)\n",
    "rfe.fit(X_Bot, Y_Bot)\n",
    "X_rfeBot=rfe.transform(X_Bot)\n",
    "true=rfe.support_\n",
    "rfecolindex_Bot=[i for i, x in enumerate(true) if x]\n",
    "rfecolname_Bot=list(colNames[i] for i in rfecolindex_Bot)"
   ]
  },
  {
   "cell_type": "code",
   "execution_count": 43,
   "metadata": {},
   "outputs": [],
   "source": [
    "rfe.fit(X_DoS, Y_DoS)\n",
    "X_rfeDoS=rfe.transform(X_DoS)\n",
    "true=rfe.support_\n",
    "rfecolindex_DoS=[i for i, x in enumerate(true) if x]\n",
    "rfecolname_DoS=list(colNames[i] for i in rfecolindex_DoS)"
   ]
  },
  {
   "cell_type": "code",
   "execution_count": 44,
   "metadata": {},
   "outputs": [],
   "source": [
    "rfe.fit(X_Infiltration, Y_Infiltration)\n",
    "X_rfeInfiltration=rfe.transform(X_Infiltration)\n",
    "true=rfe.support_\n",
    "rfecolindex_Infiltration=[i for i, x in enumerate(true) if x]\n",
    "rfecolname_Infiltration=list(colNames[i] for i in rfecolindex_Infiltration)"
   ]
  },
  {
   "cell_type": "code",
   "execution_count": 45,
   "metadata": {},
   "outputs": [],
   "source": [
    "rfe.fit(X_PortScan, Y_PortScan)\n",
    "X_rfePortScan=rfe.transform(X_PortScan)\n",
    "true=rfe.support_\n",
    "rfecolindex_PortScan=[i for i, x in enumerate(true) if x]\n",
    "rfecolname_PortScan=list(colNames[i] for i in rfecolindex_PortScan)"
   ]
  },
  {
   "cell_type": "markdown",
   "execution_count": null,
   "metadata": {},
   "source": [
    "# Summary of features selected by RFE"
   ]
  },
  {
   "cell_type": "code",
   "execution_count": 46,
   "metadata": {},
   "outputs": [
    {
     "name": "stdout",
     "output_type": "stream",
     "text": [
      "Features selected for DoS: [' Destination Port', ' Flow IAT Mean', ' Flow IAT Min', ' Fwd IAT Std', ' Bwd IAT Max', ' Bwd IAT Min', 'Init_Win_bytes_forward', ' Init_Win_bytes_backward']\n",
      "\n",
      "Features selected for Probe: [' Destination Port', ' Bwd Packet Length Std', ' Flow IAT Mean', ' Fwd Header Length', ' Bwd Packets/s', 'FIN Flag Count', ' Average Packet Size', 'Init_Win_bytes_forward']\n",
      "\n",
      "Features selected for R2L: [' Bwd IAT Max', ' Subflow Fwd Bytes', ' Subflow Bwd Bytes', 'Init_Win_bytes_forward', ' Init_Win_bytes_backward', ' act_data_pkt_fwd', ' min_seg_size_forward', 'Active Mean']\n",
      "\n",
      "Features selected for U2R: [' Destination Port', 'Total Length of Fwd Packets', ' Bwd Packet Length Min', ' Flow IAT Mean', ' Flow IAT Std', ' Bwd IAT Min', ' Bwd Packets/s', ' PSH Flag Count']\n"
     ]
    }
   ],
   "source": [
    "print('Features selected for DoS:',rfecolname_Bot)\n",
    "print()\n",
    "print('Features selected for Probe:',rfecolname_DoS)\n",
    "print()\n",
    "print('Features selected for R2L:',rfecolname_Infiltration)\n",
    "print()\n",
    "print('Features selected for U2R:',rfecolname_PortScan)"
   ]
  },
  {
   "cell_type": "code",
   "execution_count": 47,
   "metadata": {},
   "outputs": [
    {
     "name": "stdout",
     "output_type": "stream",
     "text": [
      "(517069, 8)\n",
      "(633905, 8)\n",
      "(516496, 8)\n",
      "(565468, 8)\n"
     ]
    }
   ],
   "source": [
    "print(X_rfeBot.shape)\n",
    "print(X_rfeDoS.shape)\n",
    "print(X_rfeInfiltration.shape)\n",
    "print(X_rfePortScan.shape)"
   ]
  },
  {
   "cell_type": "markdown",
   "execution_count": null,
   "metadata": {},
   "source": [
    "# Build the model:"
   ]
  },
  {
   "cell_type": "code",
   "execution_count": 48,
   "metadata": {},
   "outputs": [
    {
     "data": {
      "text/plain": [
       "DecisionTreeClassifier(ccp_alpha=0.0, class_weight=None, criterion='gini',\n",
       "                       max_depth=None, max_features=None, max_leaf_nodes=None,\n",
       "                       min_impurity_decrease=0.0, min_impurity_split=None,\n",
       "                       min_samples_leaf=1, min_samples_split=2,\n",
       "                       min_weight_fraction_leaf=0.0, presort='deprecated',\n",
       "                       random_state=0, splitter='best')"
      ]
     },
     "execution_count": 48,
     "metadata": {},
     "output_type": "execute_result"
    }
   ],
   "source": [
    "clf_Bot=DecisionTreeClassifier(random_state=0)\n",
    "clf_DoS=DecisionTreeClassifier(random_state=0)\n",
    "clf_Infiltration=DecisionTreeClassifier(random_state=0)\n",
    "clf_PortScan=DecisionTreeClassifier(random_state=0)\n",
    "clf_Bot.fit(X_Bot, Y_Bot)\n",
    "clf_DoS.fit(X_DoS, Y_DoS)\n",
    "clf_Infiltration.fit(X_Infiltration, Y_Infiltration)\n",
    "clf_PortScan.fit(X_PortScan, Y_PortScan)"
   ]
  },
  {
   "cell_type": "code",
   "execution_count": 49,
   "metadata": {},
   "outputs": [
    {
     "data": {
      "text/plain": [
       "DecisionTreeClassifier(ccp_alpha=0.0, class_weight=None, criterion='gini',\n",
       "                       max_depth=None, max_features=None, max_leaf_nodes=None,\n",
       "                       min_impurity_decrease=0.0, min_impurity_split=None,\n",
       "                       min_samples_leaf=1, min_samples_split=2,\n",
       "                       min_weight_fraction_leaf=0.0, presort='deprecated',\n",
       "                       random_state=0, splitter='best')"
      ]
     },
     "execution_count": 49,
     "metadata": {},
     "output_type": "execute_result"
    }
   ],
   "source": [
    "clf_rfeBot=DecisionTreeClassifier(random_state=0)\n",
    "clf_rfeDoS=DecisionTreeClassifier(random_state=0)\n",
    "clf_rfeInfiltration=DecisionTreeClassifier(random_state=0)\n",
    "clf_rfePortScan=DecisionTreeClassifier(random_state=0)\n",
    "clf_rfeBot.fit(X_rfeBot, Y_Bot)\n",
    "clf_rfeDoS.fit(X_rfeDoS, Y_DoS)\n",
    "clf_rfeInfiltration.fit(X_rfeInfiltration, Y_Infiltration)\n",
    "clf_rfePortScan.fit(X_rfePortScan, Y_PortScan)"
   ]
  },
  {
   "cell_type": "markdown",
   "execution_count": null,
   "metadata": {},
   "source": [
    "# Prediction & Evaluation (validation)"
   ]
  },
  {
   "cell_type": "markdown",
   "execution_count": null,
   "metadata": {},
   "source": [
    "Confusion Matrices"
   ]
  },
  {
   "cell_type": "markdown",
   "execution_count": null,
   "metadata": {},
   "source": [
    "# Bot"
   ]
  },
  {
   "cell_type": "code",
   "execution_count": 50,
   "metadata": {},
   "outputs": [
    {
     "data": {
      "text/plain": [
       "array([0, 0, 0, ..., 0, 0, 0])"
      ]
     },
     "execution_count": 50,
     "metadata": {},
     "output_type": "execute_result"
    }
   ],
   "source": [
    "clf_Bot.predict(X_Bot_test)"
   ]
  },
  {
   "cell_type": "code",
   "execution_count": 51,
   "metadata": {},
   "outputs": [
    {
     "data": {
      "text/plain": [
       "array([[1., 0.],\n",
       "       [1., 0.],\n",
       "       [1., 0.],\n",
       "       [1., 0.],\n",
       "       [1., 0.],\n",
       "       [1., 0.],\n",
       "       [1., 0.],\n",
       "       [1., 0.],\n",
       "       [1., 0.],\n",
       "       [1., 0.]])"
      ]
     },
     "execution_count": 51,
     "metadata": {},
     "output_type": "execute_result"
    }
   ],
   "source": [
    "clf_Bot.predict_proba(X_Bot_test)[0:10]"
   ]
  },
  {
   "cell_type": "code",
   "execution_count": 52,
   "metadata": {},
   "outputs": [
    {
     "data": {
      "text/html": [
       "<div>\n",
       "<style scoped>\n",
       "    .dataframe tbody tr th:only-of-type {\n",
       "        vertical-align: middle;\n",
       "    }\n",
       "\n",
       "    .dataframe tbody tr th {\n",
       "        vertical-align: top;\n",
       "    }\n",
       "\n",
       "    .dataframe thead th {\n",
       "        text-align: right;\n",
       "    }\n",
       "</style>\n",
       "<table border=\"1\" class=\"dataframe\">\n",
       "  <thead>\n",
       "    <tr style=\"text-align: right;\">\n",
       "      <th>Predicted attacks</th>\n",
       "      <th>0</th>\n",
       "      <th>1</th>\n",
       "    </tr>\n",
       "    <tr>\n",
       "      <th>Actual attacks</th>\n",
       "      <th></th>\n",
       "      <th></th>\n",
       "    </tr>\n",
       "  </thead>\n",
       "  <tbody>\n",
       "    <tr>\n",
       "      <th>0</th>\n",
       "      <td>128770</td>\n",
       "      <td>29</td>\n",
       "    </tr>\n",
       "    <tr>\n",
       "      <th>1</th>\n",
       "      <td>140</td>\n",
       "      <td>2</td>\n",
       "    </tr>\n",
       "  </tbody>\n",
       "</table>\n",
       "</div>"
      ],
      "text/plain": [
       "Predicted attacks       0   1\n",
       "Actual attacks               \n",
       "0                  128770  29\n",
       "1                     140   2"
      ]
     },
     "execution_count": 52,
     "metadata": {},
     "output_type": "execute_result"
    }
   ],
   "source": [
    "Y_Bot_pred=clf_Bot.predict(X_Bot_test)\n",
    "# Create confusion matrix\n",
    "pd.crosstab(Y_Bot_test, Y_Bot_pred, rownames=['Actual attacks'], colnames=['Predicted attacks'])"
   ]
  },
  {
   "cell_type": "markdown",
   "execution_count": null,
   "metadata": {},
   "source": [
    "# DoS"
   ]
  },
  {
   "cell_type": "code",
   "execution_count": 53,
   "metadata": {},
   "outputs": [
    {
     "data": {
      "text/html": [
       "<div>\n",
       "<style scoped>\n",
       "    .dataframe tbody tr th:only-of-type {\n",
       "        vertical-align: middle;\n",
       "    }\n",
       "\n",
       "    .dataframe tbody tr th {\n",
       "        vertical-align: top;\n",
       "    }\n",
       "\n",
       "    .dataframe thead th {\n",
       "        text-align: right;\n",
       "    }\n",
       "</style>\n",
       "<table border=\"1\" class=\"dataframe\">\n",
       "  <thead>\n",
       "    <tr style=\"text-align: right;\">\n",
       "      <th>Predicted attacks</th>\n",
       "      <th>0</th>\n",
       "      <th>2</th>\n",
       "    </tr>\n",
       "    <tr>\n",
       "      <th>Actual attacks</th>\n",
       "      <th></th>\n",
       "      <th></th>\n",
       "    </tr>\n",
       "  </thead>\n",
       "  <tbody>\n",
       "    <tr>\n",
       "      <th>0</th>\n",
       "      <td>123065</td>\n",
       "      <td>5734</td>\n",
       "    </tr>\n",
       "    <tr>\n",
       "      <th>2</th>\n",
       "      <td>8583</td>\n",
       "      <td>21081</td>\n",
       "    </tr>\n",
       "  </tbody>\n",
       "</table>\n",
       "</div>"
      ],
      "text/plain": [
       "Predicted attacks       0      2\n",
       "Actual attacks                  \n",
       "0                  123065   5734\n",
       "2                    8583  21081"
      ]
     },
     "execution_count": 53,
     "metadata": {},
     "output_type": "execute_result"
    }
   ],
   "source": [
    "Y_DoS_pred=clf_DoS.predict(X_DoS_test)\n",
    "# Create confusion matrix\n",
    "pd.crosstab(Y_DoS_test, Y_DoS_pred, rownames=['Actual attacks'], colnames=['Predicted attacks'])"
   ]
  },
  {
   "cell_type": "markdown",
   "execution_count": null,
   "metadata": {},
   "source": [
    "# Infiltration"
   ]
  },
  {
   "cell_type": "code",
   "execution_count": 54,
   "metadata": {},
   "outputs": [
    {
     "data": {
      "text/html": [
       "<div>\n",
       "<style scoped>\n",
       "    .dataframe tbody tr th:only-of-type {\n",
       "        vertical-align: middle;\n",
       "    }\n",
       "\n",
       "    .dataframe tbody tr th {\n",
       "        vertical-align: top;\n",
       "    }\n",
       "\n",
       "    .dataframe thead th {\n",
       "        text-align: right;\n",
       "    }\n",
       "</style>\n",
       "<table border=\"1\" class=\"dataframe\">\n",
       "  <thead>\n",
       "    <tr style=\"text-align: right;\">\n",
       "      <th>Predicted attacks</th>\n",
       "      <th>0</th>\n",
       "      <th>3</th>\n",
       "    </tr>\n",
       "    <tr>\n",
       "      <th>Actual attacks</th>\n",
       "      <th></th>\n",
       "      <th></th>\n",
       "    </tr>\n",
       "  </thead>\n",
       "  <tbody>\n",
       "    <tr>\n",
       "      <th>0</th>\n",
       "      <td>128566</td>\n",
       "      <td>233</td>\n",
       "    </tr>\n",
       "    <tr>\n",
       "      <th>3</th>\n",
       "      <td>1</td>\n",
       "      <td>1</td>\n",
       "    </tr>\n",
       "  </tbody>\n",
       "</table>\n",
       "</div>"
      ],
      "text/plain": [
       "Predicted attacks       0    3\n",
       "Actual attacks                \n",
       "0                  128566  233\n",
       "3                       1    1"
      ]
     },
     "execution_count": 54,
     "metadata": {},
     "output_type": "execute_result"
    }
   ],
   "source": [
    "Y_Infiltration_pred=clf_Infiltration.predict(X_Infiltration_test)\n",
    "# Create confusion matrix\n",
    "pd.crosstab(Y_Infiltration_test, Y_Infiltration_pred, rownames=['Actual attacks'], colnames=['Predicted attacks'])"
   ]
  },
  {
   "cell_type": "markdown",
   "execution_count": null,
   "metadata": {},
   "source": [
    "# PortScan"
   ]
  },
  {
   "cell_type": "code",
   "execution_count": 55,
   "metadata": {},
   "outputs": [
    {
     "data": {
      "text/html": [
       "<div>\n",
       "<style scoped>\n",
       "    .dataframe tbody tr th:only-of-type {\n",
       "        vertical-align: middle;\n",
       "    }\n",
       "\n",
       "    .dataframe tbody tr th {\n",
       "        vertical-align: top;\n",
       "    }\n",
       "\n",
       "    .dataframe thead th {\n",
       "        text-align: right;\n",
       "    }\n",
       "</style>\n",
       "<table border=\"1\" class=\"dataframe\">\n",
       "  <thead>\n",
       "    <tr style=\"text-align: right;\">\n",
       "      <th>Predicted attacks</th>\n",
       "      <th>0</th>\n",
       "      <th>4</th>\n",
       "    </tr>\n",
       "    <tr>\n",
       "      <th>Actual attacks</th>\n",
       "      <th></th>\n",
       "      <th></th>\n",
       "    </tr>\n",
       "  </thead>\n",
       "  <tbody>\n",
       "    <tr>\n",
       "      <th>0</th>\n",
       "      <td>128277</td>\n",
       "      <td>522</td>\n",
       "    </tr>\n",
       "    <tr>\n",
       "      <th>4</th>\n",
       "      <td>12255</td>\n",
       "      <td>3</td>\n",
       "    </tr>\n",
       "  </tbody>\n",
       "</table>\n",
       "</div>"
      ],
      "text/plain": [
       "Predicted attacks       0    4\n",
       "Actual attacks                \n",
       "0                  128277  522\n",
       "4                   12255    3"
      ]
     },
     "execution_count": 55,
     "metadata": {},
     "output_type": "execute_result"
    }
   ],
   "source": [
    "Y_PortScan_pred=clf_PortScan.predict(X_PortScan_test)\n",
    "# Create confusion matrix\n",
    "pd.crosstab(Y_PortScan_test, Y_PortScan_pred, rownames=['Actual attacks'], colnames=['Predicted attacks'])"
   ]
  },
  {
   "cell_type": "markdown",
   "execution_count": null,
   "metadata": {},
   "source": [
    "# Cross Validation: Accuracy, Precision, Recall, F-measure"
   ]
  },
  {
   "cell_type": "markdown",
   "execution_count": null,
   "metadata": {},
   "source": [
    "# Bot"
   ]
  },
  {
   "cell_type": "code",
   "execution_count": 56,
   "metadata": {},
   "outputs": [
    {
     "name": "stdout",
     "output_type": "stream",
     "text": [
      "Accuracy: 0.99952 (+/- 0.00022)\n",
      "Precision: 0.77464 (+/- 0.14154)\n",
      "Recall: 0.81667 (+/- 0.24927)\n",
      "F-measure: 0.78567 (+/- 0.12725)\n"
     ]
    }
   ],
   "source": [
    "from sklearn.model_selection import cross_val_score\n",
    "from sklearn import metrics\n",
    "accuracy = cross_val_score(clf_Bot, X_Bot_test, Y_Bot_test, cv=10, scoring='accuracy')\n",
    "print(\"Accuracy: %0.5f (+/- %0.5f)\" % (accuracy.mean(), accuracy.std() * 2))\n",
    "precision = cross_val_score(clf_Bot, X_Bot_test, Y_Bot_test, cv=10, scoring='precision')\n",
    "print(\"Precision: %0.5f (+/- %0.5f)\" % (precision.mean(), precision.std() * 2))\n",
    "recall = cross_val_score(clf_Bot, X_Bot_test, Y_Bot_test, cv=10, scoring='recall')\n",
    "print(\"Recall: %0.5f (+/- %0.5f)\" % (recall.mean(), recall.std() * 2))\n",
    "f = cross_val_score(clf_Bot, X_Bot_test, Y_Bot_test, cv=10, scoring='f1')\n",
    "print(\"F-measure: %0.5f (+/- %0.5f)\" % (f.mean(), f.std() * 2))"
   ]
  },
  {
   "cell_type": "markdown",
   "execution_count": null,
   "metadata": {},
   "source": [
    "# DoS"
   ]
  },
  {
   "cell_type": "code",
   "execution_count": 57,
   "metadata": {},
   "outputs": [
    {
     "name": "stdout",
     "output_type": "stream",
     "text": [
      "Accuracy: 0.99941 (+/- 0.00042)\n",
      "Precision: 0.99891 (+/- 0.00082)\n",
      "Recall: 0.99914 (+/- 0.00075)\n",
      "F-measure: 0.99903 (+/- 0.00069)\n"
     ]
    }
   ],
   "source": [
    "accuracy = cross_val_score(clf_DoS, X_DoS_test, Y_DoS_test, cv=10, scoring='accuracy')\n",
    "print(\"Accuracy: %0.5f (+/- %0.5f)\" % (accuracy.mean(), accuracy.std() * 2))\n",
    "precision = cross_val_score(clf_DoS, X_DoS_test, Y_DoS_test, cv=10, scoring='precision_macro')\n",
    "print(\"Precision: %0.5f (+/- %0.5f)\" % (precision.mean(), precision.std() * 2))\n",
    "recall = cross_val_score(clf_DoS, X_DoS_test, Y_DoS_test, cv=10, scoring='recall_macro')\n",
    "print(\"Recall: %0.5f (+/- %0.5f)\" % (recall.mean(), recall.std() * 2))\n",
    "f = cross_val_score(clf_DoS, X_DoS_test, Y_DoS_test, cv=10, scoring='f1_macro')\n",
    "print(\"F-measure: %0.5f (+/- %0.5f)\" % (f.mean(), f.std() * 2))"
   ]
  },
  {
   "cell_type": "markdown",
   "execution_count": null,
   "metadata": {},
   "source": [
    "# Infiltration"
   ]
  },
  {
   "cell_type": "code",
   "execution_count": 58,
   "metadata": {},
   "outputs": [
    {
     "name": "stderr",
     "output_type": "stream",
     "text": [
      "/opt/conda/lib/python3.7/site-packages/sklearn/model_selection/_split.py:667: UserWarning: The least populated class in y has only 2 members, which is less than n_splits=10.\n",
      "  % (min_groups, self.n_splits)), UserWarning)\n"
     ]
    },
    {
     "name": "stdout",
     "output_type": "stream",
     "text": [
      "Accuracy: 0.99995 (+/- 0.00008)\n"
     ]
    },
    {
     "name": "stderr",
     "output_type": "stream",
     "text": [
      "/opt/conda/lib/python3.7/site-packages/sklearn/model_selection/_split.py:667: UserWarning: The least populated class in y has only 2 members, which is less than n_splits=10.\n",
      "  % (min_groups, self.n_splits)), UserWarning)\n",
      "/opt/conda/lib/python3.7/site-packages/sklearn/metrics/_classification.py:1272: UndefinedMetricWarning: Precision is ill-defined and being set to 0.0 in labels with no predicted samples. Use `zero_division` parameter to control this behavior.\n",
      "  _warn_prf(average, modifier, msg_start, len(result))\n",
      "/opt/conda/lib/python3.7/site-packages/sklearn/metrics/_classification.py:1272: UndefinedMetricWarning: Precision is ill-defined and being set to 0.0 in labels with no predicted samples. Use `zero_division` parameter to control this behavior.\n",
      "  _warn_prf(average, modifier, msg_start, len(result))\n",
      "/opt/conda/lib/python3.7/site-packages/sklearn/model_selection/_split.py:667: UserWarning: The least populated class in y has only 2 members, which is less than n_splits=10.\n",
      "  % (min_groups, self.n_splits)), UserWarning)\n"
     ]
    },
    {
     "name": "stdout",
     "output_type": "stream",
     "text": [
      "Precision: 0.69999 (+/- 0.48991)\n"
     ]
    },
    {
     "name": "stderr",
     "output_type": "stream",
     "text": [
      "/opt/conda/lib/python3.7/site-packages/sklearn/metrics/_classification.py:1272: UndefinedMetricWarning: Recall is ill-defined and being set to 0.0 in labels with no true samples. Use `zero_division` parameter to control this behavior.\n",
      "  _warn_prf(average, modifier, msg_start, len(result))\n",
      "/opt/conda/lib/python3.7/site-packages/sklearn/metrics/_classification.py:1272: UndefinedMetricWarning: Recall is ill-defined and being set to 0.0 in labels with no true samples. Use `zero_division` parameter to control this behavior.\n",
      "  _warn_prf(average, modifier, msg_start, len(result))\n",
      "/opt/conda/lib/python3.7/site-packages/sklearn/metrics/_classification.py:1272: UndefinedMetricWarning: Recall is ill-defined and being set to 0.0 in labels with no true samples. Use `zero_division` parameter to control this behavior.\n",
      "  _warn_prf(average, modifier, msg_start, len(result))\n",
      "/opt/conda/lib/python3.7/site-packages/sklearn/metrics/_classification.py:1272: UndefinedMetricWarning: Recall is ill-defined and being set to 0.0 in labels with no true samples. Use `zero_division` parameter to control this behavior.\n",
      "  _warn_prf(average, modifier, msg_start, len(result))\n"
     ]
    },
    {
     "name": "stdout",
     "output_type": "stream",
     "text": [
      "Recall: 0.69998 (+/- 0.48992)\n"
     ]
    },
    {
     "name": "stderr",
     "output_type": "stream",
     "text": [
      "/opt/conda/lib/python3.7/site-packages/sklearn/model_selection/_split.py:667: UserWarning: The least populated class in y has only 2 members, which is less than n_splits=10.\n",
      "  % (min_groups, self.n_splits)), UserWarning)\n"
     ]
    },
    {
     "name": "stdout",
     "output_type": "stream",
     "text": [
      "F-measure: 0.69999 (+/- 0.48992)\n"
     ]
    }
   ],
   "source": [
    "accuracy = cross_val_score(clf_Infiltration, X_Infiltration_test, Y_Infiltration_test, cv=10, scoring='accuracy')\n",
    "print(\"Accuracy: %0.5f (+/- %0.5f)\" % (accuracy.mean(), accuracy.std() * 2))\n",
    "precision = cross_val_score(clf_Infiltration, X_Infiltration_test, Y_Infiltration_test, cv=10, scoring='precision_macro')\n",
    "print(\"Precision: %0.5f (+/- %0.5f)\" % (precision.mean(), precision.std() * 2))\n",
    "recall = cross_val_score(clf_Infiltration, X_Infiltration_test, Y_Infiltration_test, cv=10, scoring='recall_macro')\n",
    "print(\"Recall: %0.5f (+/- %0.5f)\" % (recall.mean(), recall.std() * 2))\n",
    "f = cross_val_score(clf_Infiltration, X_Infiltration_test, Y_Infiltration_test, cv=10, scoring='f1_macro')\n",
    "print(\"F-measure: %0.5f (+/- %0.5f)\" % (f.mean(), f.std() * 2))"
   ]
  },
  {
   "cell_type": "markdown",
   "execution_count": null,
   "metadata": {},
   "source": [
    "# PortScan"
   ]
  },
  {
   "cell_type": "code",
   "execution_count": 59,
   "metadata": {},
   "outputs": [
    {
     "name": "stdout",
     "output_type": "stream",
     "text": [
      "Accuracy: 0.99911 (+/- 0.00041)\n",
      "Precision: 0.99715 (+/- 0.00186)\n",
      "Recall: 0.99722 (+/- 0.00150)\n",
      "F-measure: 0.99719 (+/- 0.00130)\n"
     ]
    }
   ],
   "source": [
    "accuracy = cross_val_score(clf_PortScan, X_PortScan_test, Y_PortScan_test, cv=10, scoring='accuracy')\n",
    "print(\"Accuracy: %0.5f (+/- %0.5f)\" % (accuracy.mean(), accuracy.std() * 2))\n",
    "precision = cross_val_score(clf_PortScan, X_PortScan_test, Y_PortScan_test, cv=10, scoring='precision_macro')\n",
    "print(\"Precision: %0.5f (+/- %0.5f)\" % (precision.mean(), precision.std() * 2))\n",
    "recall = cross_val_score(clf_PortScan, X_PortScan_test, Y_PortScan_test, cv=10, scoring='recall_macro')\n",
    "print(\"Recall: %0.5f (+/- %0.5f)\" % (recall.mean(), recall.std() * 2))\n",
    "f = cross_val_score(clf_PortScan, X_PortScan_test, Y_PortScan_test, cv=10, scoring='f1_macro')\n",
    "print(\"F-measure: %0.5f (+/- %0.5f)\" % (f.mean(), f.std() * 2))"
   ]
  },
  {
   "cell_type": "code",
   "execution_count": 60,
   "metadata": {},
   "outputs": [
    {
     "data": {
      "text/plain": [
       "(141057, 8)"
      ]
     },
     "execution_count": 60,
     "metadata": {},
     "output_type": "execute_result"
    }
   ],
   "source": [
    "X_Bot_test2=X_Bot_test[:,rfecolindex_Bot]\n",
    "X_DoS_test2=X_DoS_test[:,rfecolindex_DoS]\n",
    "X_Infiltration_test2=X_Infiltration_test[:,rfecolindex_Infiltration]\n",
    "X_PortScan_test2=X_PortScan_test[:,rfecolindex_PortScan]\n",
    "X_PortScan_test2.shape"
   ]
  },
  {
   "cell_type": "code",
   "execution_count": 61,
   "metadata": {},
   "outputs": [
    {
     "data": {
      "text/html": [
       "<div>\n",
       "<style scoped>\n",
       "    .dataframe tbody tr th:only-of-type {\n",
       "        vertical-align: middle;\n",
       "    }\n",
       "\n",
       "    .dataframe tbody tr th {\n",
       "        vertical-align: top;\n",
       "    }\n",
       "\n",
       "    .dataframe thead th {\n",
       "        text-align: right;\n",
       "    }\n",
       "</style>\n",
       "<table border=\"1\" class=\"dataframe\">\n",
       "  <thead>\n",
       "    <tr style=\"text-align: right;\">\n",
       "      <th>Predicted attacks</th>\n",
       "      <th>0</th>\n",
       "      <th>1</th>\n",
       "    </tr>\n",
       "    <tr>\n",
       "      <th>Actual attacks</th>\n",
       "      <th></th>\n",
       "      <th></th>\n",
       "    </tr>\n",
       "  </thead>\n",
       "  <tbody>\n",
       "    <tr>\n",
       "      <th>0</th>\n",
       "      <td>128749</td>\n",
       "      <td>50</td>\n",
       "    </tr>\n",
       "    <tr>\n",
       "      <th>1</th>\n",
       "      <td>142</td>\n",
       "      <td>0</td>\n",
       "    </tr>\n",
       "  </tbody>\n",
       "</table>\n",
       "</div>"
      ],
      "text/plain": [
       "Predicted attacks       0   1\n",
       "Actual attacks               \n",
       "0                  128749  50\n",
       "1                     142   0"
      ]
     },
     "execution_count": 61,
     "metadata": {},
     "output_type": "execute_result"
    }
   ],
   "source": [
    "Y_Bot_pred2=clf_rfeBot.predict(X_Bot_test2)\n",
    "# Create confusion matrix\n",
    "pd.crosstab(Y_Bot_test, Y_Bot_pred2, rownames=['Actual attacks'], colnames=['Predicted attacks'])"
   ]
  },
  {
   "cell_type": "code",
   "execution_count": 62,
   "metadata": {},
   "outputs": [
    {
     "data": {
      "text/html": [
       "<div>\n",
       "<style scoped>\n",
       "    .dataframe tbody tr th:only-of-type {\n",
       "        vertical-align: middle;\n",
       "    }\n",
       "\n",
       "    .dataframe tbody tr th {\n",
       "        vertical-align: top;\n",
       "    }\n",
       "\n",
       "    .dataframe thead th {\n",
       "        text-align: right;\n",
       "    }\n",
       "</style>\n",
       "<table border=\"1\" class=\"dataframe\">\n",
       "  <thead>\n",
       "    <tr style=\"text-align: right;\">\n",
       "      <th>Predicted attacks</th>\n",
       "      <th>0</th>\n",
       "      <th>2</th>\n",
       "    </tr>\n",
       "    <tr>\n",
       "      <th>Actual attacks</th>\n",
       "      <th></th>\n",
       "      <th></th>\n",
       "    </tr>\n",
       "  </thead>\n",
       "  <tbody>\n",
       "    <tr>\n",
       "      <th>0</th>\n",
       "      <td>127251</td>\n",
       "      <td>1548</td>\n",
       "    </tr>\n",
       "    <tr>\n",
       "      <th>2</th>\n",
       "      <td>10922</td>\n",
       "      <td>18742</td>\n",
       "    </tr>\n",
       "  </tbody>\n",
       "</table>\n",
       "</div>"
      ],
      "text/plain": [
       "Predicted attacks       0      2\n",
       "Actual attacks                  \n",
       "0                  127251   1548\n",
       "2                   10922  18742"
      ]
     },
     "execution_count": 62,
     "metadata": {},
     "output_type": "execute_result"
    }
   ],
   "source": [
    "Y_DoS_pred2=clf_rfeDoS.predict(X_DoS_test2)\n",
    "# Create confusion matrix\n",
    "pd.crosstab(Y_DoS_test, Y_DoS_pred2, rownames=['Actual attacks'], colnames=['Predicted attacks'])"
   ]
  },
  {
   "cell_type": "code",
   "execution_count": 63,
   "metadata": {},
   "outputs": [
    {
     "data": {
      "text/html": [
       "<div>\n",
       "<style scoped>\n",
       "    .dataframe tbody tr th:only-of-type {\n",
       "        vertical-align: middle;\n",
       "    }\n",
       "\n",
       "    .dataframe tbody tr th {\n",
       "        vertical-align: top;\n",
       "    }\n",
       "\n",
       "    .dataframe thead th {\n",
       "        text-align: right;\n",
       "    }\n",
       "</style>\n",
       "<table border=\"1\" class=\"dataframe\">\n",
       "  <thead>\n",
       "    <tr style=\"text-align: right;\">\n",
       "      <th>Predicted attacks</th>\n",
       "      <th>0</th>\n",
       "      <th>3</th>\n",
       "    </tr>\n",
       "    <tr>\n",
       "      <th>Actual attacks</th>\n",
       "      <th></th>\n",
       "      <th></th>\n",
       "    </tr>\n",
       "  </thead>\n",
       "  <tbody>\n",
       "    <tr>\n",
       "      <th>0</th>\n",
       "      <td>128799</td>\n",
       "      <td>0</td>\n",
       "    </tr>\n",
       "    <tr>\n",
       "      <th>3</th>\n",
       "      <td>1</td>\n",
       "      <td>1</td>\n",
       "    </tr>\n",
       "  </tbody>\n",
       "</table>\n",
       "</div>"
      ],
      "text/plain": [
       "Predicted attacks       0  3\n",
       "Actual attacks              \n",
       "0                  128799  0\n",
       "3                       1  1"
      ]
     },
     "execution_count": 63,
     "metadata": {},
     "output_type": "execute_result"
    }
   ],
   "source": [
    "Y_Infiltration_pred2=clf_rfeInfiltration.predict(X_Infiltration_test2)\n",
    "# Create confusion matrix\n",
    "pd.crosstab(Y_Infiltration_test, Y_Infiltration_pred2, rownames=['Actual attacks'], colnames=['Predicted attacks'])"
   ]
  },
  {
   "cell_type": "code",
   "execution_count": 64,
   "metadata": {},
   "outputs": [
    {
     "data": {
      "text/html": [
       "<div>\n",
       "<style scoped>\n",
       "    .dataframe tbody tr th:only-of-type {\n",
       "        vertical-align: middle;\n",
       "    }\n",
       "\n",
       "    .dataframe tbody tr th {\n",
       "        vertical-align: top;\n",
       "    }\n",
       "\n",
       "    .dataframe thead th {\n",
       "        text-align: right;\n",
       "    }\n",
       "</style>\n",
       "<table border=\"1\" class=\"dataframe\">\n",
       "  <thead>\n",
       "    <tr style=\"text-align: right;\">\n",
       "      <th>Predicted attacks</th>\n",
       "      <th>0</th>\n",
       "      <th>4</th>\n",
       "    </tr>\n",
       "    <tr>\n",
       "      <th>Actual attacks</th>\n",
       "      <th></th>\n",
       "      <th></th>\n",
       "    </tr>\n",
       "  </thead>\n",
       "  <tbody>\n",
       "    <tr>\n",
       "      <th>0</th>\n",
       "      <td>126928</td>\n",
       "      <td>1871</td>\n",
       "    </tr>\n",
       "    <tr>\n",
       "      <th>4</th>\n",
       "      <td>8958</td>\n",
       "      <td>3300</td>\n",
       "    </tr>\n",
       "  </tbody>\n",
       "</table>\n",
       "</div>"
      ],
      "text/plain": [
       "Predicted attacks       0     4\n",
       "Actual attacks                 \n",
       "0                  126928  1871\n",
       "4                    8958  3300"
      ]
     },
     "execution_count": 64,
     "metadata": {},
     "output_type": "execute_result"
    }
   ],
   "source": [
    "Y_PortScan_pred2=clf_rfePortScan.predict(X_PortScan_test2)\n",
    "# Create confusion matrix\n",
    "pd.crosstab(Y_PortScan_test, Y_PortScan_pred2, rownames=['Actual attacks'], colnames=['Predicted attacks'])"
   ]
  },
  {
   "cell_type": "code",
   "execution_count": 65,
   "metadata": {},
   "outputs": [
    {
     "name": "stdout",
     "output_type": "stream",
     "text": [
      "Accuracy: 0.99953 (+/- 0.00024)\n",
      "Precision: 0.78050 (+/- 0.11004)\n",
      "Recall: 0.81190 (+/- 0.16420)\n",
      "F-measure: 0.79294 (+/- 0.10574)\n"
     ]
    }
   ],
   "source": [
    "accuracy = cross_val_score(clf_rfeBot, X_Bot_test2, Y_Bot_test, cv=10, scoring='accuracy')\n",
    "print(\"Accuracy: %0.5f (+/- %0.5f)\" % (accuracy.mean(), accuracy.std() * 2))\n",
    "precision = cross_val_score(clf_rfeBot, X_Bot_test2, Y_Bot_test, cv=10, scoring='precision')\n",
    "print(\"Precision: %0.5f (+/- %0.5f)\" % (precision.mean(), precision.std() * 2))\n",
    "recall = cross_val_score(clf_rfeBot, X_Bot_test2, Y_Bot_test, cv=10, scoring='recall')\n",
    "print(\"Recall: %0.5f (+/- %0.5f)\" % (recall.mean(), recall.std() * 2))\n",
    "f = cross_val_score(clf_rfeBot, X_Bot_test2, Y_Bot_test, cv=10, scoring='f1')\n",
    "print(\"F-measure: %0.5f (+/- %0.5f)\" % (f.mean(), f.std() * 2))"
   ]
  },
  {
   "cell_type": "code",
   "execution_count": 66,
   "metadata": {},
   "outputs": [
    {
     "name": "stdout",
     "output_type": "stream",
     "text": [
      "Accuracy: 0.99944 (+/- 0.00035)\n",
      "Precision: 0.99896 (+/- 0.00087)\n",
      "Recall: 0.99922 (+/- 0.00066)\n",
      "F-measure: 0.99909 (+/- 0.00058)\n"
     ]
    }
   ],
   "source": [
    "accuracy = cross_val_score(clf_rfeDoS, X_DoS_test2, Y_DoS_test, cv=10, scoring='accuracy')\n",
    "print(\"Accuracy: %0.5f (+/- %0.5f)\" % (accuracy.mean(), accuracy.std() * 2))\n",
    "precision = cross_val_score(clf_rfeDoS, X_DoS_test2, Y_DoS_test, cv=10, scoring='precision_macro')\n",
    "print(\"Precision: %0.5f (+/- %0.5f)\" % (precision.mean(), precision.std() * 2))\n",
    "recall = cross_val_score(clf_rfeDoS, X_DoS_test2, Y_DoS_test, cv=10, scoring='recall_macro')\n",
    "print(\"Recall: %0.5f (+/- %0.5f)\" % (recall.mean(), recall.std() * 2))\n",
    "f = cross_val_score(clf_rfeDoS, X_DoS_test2, Y_DoS_test, cv=10, scoring='f1_macro')\n",
    "print(\"F-measure: %0.5f (+/- %0.5f)\" % (f.mean(), f.std() * 2))"
   ]
  },
  {
   "cell_type": "code",
   "execution_count": 67,
   "metadata": {},
   "outputs": [
    {
     "name": "stderr",
     "output_type": "stream",
     "text": [
      "/opt/conda/lib/python3.7/site-packages/sklearn/model_selection/_split.py:667: UserWarning: The least populated class in y has only 2 members, which is less than n_splits=10.\n",
      "  % (min_groups, self.n_splits)), UserWarning)\n"
     ]
    },
    {
     "name": "stdout",
     "output_type": "stream",
     "text": [
      "Accuracy: 0.99997 (+/- 0.00008)\n"
     ]
    },
    {
     "name": "stderr",
     "output_type": "stream",
     "text": [
      "/opt/conda/lib/python3.7/site-packages/sklearn/model_selection/_split.py:667: UserWarning: The least populated class in y has only 2 members, which is less than n_splits=10.\n",
      "  % (min_groups, self.n_splits)), UserWarning)\n",
      "/opt/conda/lib/python3.7/site-packages/sklearn/metrics/_classification.py:1272: UndefinedMetricWarning: Precision is ill-defined and being set to 0.0 in labels with no predicted samples. Use `zero_division` parameter to control this behavior.\n",
      "  _warn_prf(average, modifier, msg_start, len(result))\n",
      "/opt/conda/lib/python3.7/site-packages/sklearn/metrics/_classification.py:1272: UndefinedMetricWarning: Precision is ill-defined and being set to 0.0 in labels with no predicted samples. Use `zero_division` parameter to control this behavior.\n",
      "  _warn_prf(average, modifier, msg_start, len(result))\n",
      "/opt/conda/lib/python3.7/site-packages/sklearn/model_selection/_split.py:667: UserWarning: The least populated class in y has only 2 members, which is less than n_splits=10.\n",
      "  % (min_groups, self.n_splits)), UserWarning)\n"
     ]
    },
    {
     "name": "stdout",
     "output_type": "stream",
     "text": [
      "Precision: 0.79999 (+/- 0.48992)\n"
     ]
    },
    {
     "name": "stderr",
     "output_type": "stream",
     "text": [
      "/opt/conda/lib/python3.7/site-packages/sklearn/metrics/_classification.py:1272: UndefinedMetricWarning: Recall is ill-defined and being set to 0.0 in labels with no true samples. Use `zero_division` parameter to control this behavior.\n",
      "  _warn_prf(average, modifier, msg_start, len(result))\n",
      "/opt/conda/lib/python3.7/site-packages/sklearn/metrics/_classification.py:1272: UndefinedMetricWarning: Recall is ill-defined and being set to 0.0 in labels with no true samples. Use `zero_division` parameter to control this behavior.\n",
      "  _warn_prf(average, modifier, msg_start, len(result))\n",
      "/opt/conda/lib/python3.7/site-packages/sklearn/model_selection/_split.py:667: UserWarning: The least populated class in y has only 2 members, which is less than n_splits=10.\n",
      "  % (min_groups, self.n_splits)), UserWarning)\n"
     ]
    },
    {
     "name": "stdout",
     "output_type": "stream",
     "text": [
      "Recall: 0.79999 (+/- 0.48992)\n",
      "F-measure: 0.79999 (+/- 0.48992)\n"
     ]
    }
   ],
   "source": [
    "accuracy = cross_val_score(clf_rfeInfiltration, X_Infiltration_test2, Y_Infiltration_test, cv=10, scoring='accuracy')\n",
    "print(\"Accuracy: %0.5f (+/- %0.5f)\" % (accuracy.mean(), accuracy.std() * 2))\n",
    "precision = cross_val_score(clf_rfeInfiltration, X_Infiltration_test2, Y_Infiltration_test, cv=10, scoring='precision_macro')\n",
    "print(\"Precision: %0.5f (+/- %0.5f)\" % (precision.mean(), precision.std() * 2))\n",
    "recall = cross_val_score(clf_rfeInfiltration, X_Infiltration_test2, Y_Infiltration_test, cv=10, scoring='recall_macro')\n",
    "print(\"Recall: %0.5f (+/- %0.5f)\" % (recall.mean(), recall.std() * 2))\n",
    "f = cross_val_score(clf_rfeInfiltration, X_Infiltration_test2, Y_Infiltration_test, cv=10, scoring='f1_macro')\n",
    "print(\"F-measure: %0.5f (+/- %0.5f)\" % (f.mean(), f.std() * 2))"
   ]
  },
  {
   "cell_type": "code",
   "execution_count": 68,
   "metadata": {},
   "outputs": [
    {
     "name": "stdout",
     "output_type": "stream",
     "text": [
      "Accuracy: 0.99905 (+/- 0.00048)\n",
      "Precision: 0.99697 (+/- 0.00208)\n",
      "Recall: 0.99704 (+/- 0.00156)\n",
      "F-measure: 0.99701 (+/- 0.00151)\n"
     ]
    }
   ],
   "source": [
    "accuracy = cross_val_score(clf_rfePortScan, X_PortScan_test2, Y_PortScan_test, cv=10, scoring='accuracy')\n",
    "print(\"Accuracy: %0.5f (+/- %0.5f)\" % (accuracy.mean(), accuracy.std() * 2))\n",
    "precision = cross_val_score(clf_rfePortScan, X_PortScan_test2, Y_PortScan_test, cv=10, scoring='precision_macro')\n",
    "print(\"Precision: %0.5f (+/- %0.5f)\" % (precision.mean(), precision.std() * 2))\n",
    "recall = cross_val_score(clf_rfePortScan, X_PortScan_test2, Y_PortScan_test, cv=10, scoring='recall_macro')\n",
    "print(\"Recall: %0.5f (+/- %0.5f)\" % (recall.mean(), recall.std() * 2))\n",
    "f = cross_val_score(clf_rfePortScan, X_PortScan_test2, Y_PortScan_test, cv=10, scoring='f1_macro')\n",
    "print(\"F-measure: %0.5f (+/- %0.5f)\" % (f.mean(), f.std() * 2))"
   ]
  },
  {
   "cell_type": "code",
   "execution_count": 69,
   "metadata": {},
   "outputs": [
    {
     "name": "stdout",
     "output_type": "stream",
     "text": [
      "Accuracy: 0.99933 (+/- 0.00019)\n"
     ]
    }
   ],
   "source": [
    "accuracy = cross_val_score(clf_rfeBot, X_Bot_test2, Y_Bot_test, cv=2, scoring='accuracy')\n",
    "print(\"Accuracy: %0.5f (+/- %0.5f)\" % (accuracy.mean(), accuracy.std() * 2))"
   ]
  },
  {
   "cell_type": "code",
   "execution_count": 70,
   "metadata": {},
   "outputs": [
    {
     "name": "stdout",
     "output_type": "stream",
     "text": [
      "Accuracy: 0.99952 (+/- 0.00008)\n"
     ]
    }
   ],
   "source": [
    "accuracy = cross_val_score(clf_rfeBot, X_Bot_test2, Y_Bot_test, cv=5, scoring='accuracy')\n",
    "print(\"Accuracy: %0.5f (+/- %0.5f)\" % (accuracy.mean(), accuracy.std() * 2))"
   ]
  },
  {
   "cell_type": "code",
   "execution_count": 71,
   "metadata": {},
   "outputs": [
    {
     "name": "stdout",
     "output_type": "stream",
     "text": [
      "Accuracy: 0.99957 (+/- 0.00048)\n"
     ]
    }
   ],
   "source": [
    "accuracy = cross_val_score(clf_rfeBot, X_Bot_test2, Y_Bot_test, cv=30, scoring='accuracy')\n",
    "print(\"Accuracy: %0.5f (+/- %0.5f)\" % (accuracy.mean(), accuracy.std() * 2))"
   ]
  },
  {
   "cell_type": "code",
   "execution_count": 72,
   "metadata": {},
   "outputs": [
    {
     "name": "stdout",
     "output_type": "stream",
     "text": [
      "Accuracy: 0.99953 (+/- 0.00073)\n"
     ]
    }
   ],
   "source": [
    "accuracy = cross_val_score(clf_rfeBot, X_Bot_test2, Y_Bot_test, cv=50, scoring='accuracy')\n",
    "print(\"Accuracy: %0.5f (+/- %0.5f)\" % (accuracy.mean(), accuracy.std() * 2))"
   ]
  },
  {
   "cell_type": "code",
   "execution_count": 73,
   "metadata": {},
   "outputs": [
    {
     "name": "stdout",
     "output_type": "stream",
     "text": [
      "Accuracy: 0.99921 (+/- 0.00009)\n"
     ]
    }
   ],
   "source": [
    "accuracy = cross_val_score(clf_rfeDoS, X_DoS_test2, Y_DoS_test, cv=2, scoring='accuracy')\n",
    "print(\"Accuracy: %0.5f (+/- %0.5f)\" % (accuracy.mean(), accuracy.std() * 2))"
   ]
  },
  {
   "cell_type": "code",
   "execution_count": 74,
   "metadata": {},
   "outputs": [
    {
     "name": "stdout",
     "output_type": "stream",
     "text": [
      "Accuracy: 0.99946 (+/- 0.00015)\n"
     ]
    }
   ],
   "source": [
    "accuracy = cross_val_score(clf_rfeDoS, X_DoS_test2, Y_DoS_test, cv=5, scoring='accuracy')\n",
    "print(\"Accuracy: %0.5f (+/- %0.5f)\" % (accuracy.mean(), accuracy.std() * 2))"
   ]
  },
  {
   "cell_type": "code",
   "execution_count": 75,
   "metadata": {},
   "outputs": [
    {
     "name": "stdout",
     "output_type": "stream",
     "text": [
      "Accuracy: 0.99946 (+/- 0.00062)\n"
     ]
    }
   ],
   "source": [
    "accuracy = cross_val_score(clf_rfeDoS, X_DoS_test2, Y_DoS_test, cv=30, scoring='accuracy')\n",
    "print(\"Accuracy: %0.5f (+/- %0.5f)\" % (accuracy.mean(), accuracy.std() * 2))"
   ]
  },
  {
   "cell_type": "code",
   "execution_count": 76,
   "metadata": {},
   "outputs": [
    {
     "name": "stdout",
     "output_type": "stream",
     "text": [
      "Accuracy: 0.99945 (+/- 0.00078)\n"
     ]
    }
   ],
   "source": [
    "accuracy = cross_val_score(clf_rfeDoS, X_DoS_test2, Y_DoS_test, cv=50, scoring='accuracy')\n",
    "print(\"Accuracy: %0.5f (+/- %0.5f)\" % (accuracy.mean(), accuracy.std() * 2))"
   ]
  },
  {
   "cell_type": "code",
   "execution_count": 77,
   "metadata": {},
   "outputs": [
    {
     "name": "stdout",
     "output_type": "stream",
     "text": [
      "Accuracy: 0.99994 (+/- 0.00003)\n"
     ]
    }
   ],
   "source": [
    "accuracy = cross_val_score(clf_rfeInfiltration, X_Infiltration_test2, Y_Infiltration_test, cv=2, scoring='accuracy')\n",
    "print(\"Accuracy: %0.5f (+/- %0.5f)\" % (accuracy.mean(), accuracy.std() * 2))"
   ]
  },
  {
   "cell_type": "code",
   "execution_count": 78,
   "metadata": {},
   "outputs": [
    {
     "name": "stderr",
     "output_type": "stream",
     "text": [
      "/opt/conda/lib/python3.7/site-packages/sklearn/model_selection/_split.py:667: UserWarning: The least populated class in y has only 2 members, which is less than n_splits=5.\n",
      "  % (min_groups, self.n_splits)), UserWarning)\n"
     ]
    },
    {
     "name": "stdout",
     "output_type": "stream",
     "text": [
      "Accuracy: 0.99996 (+/- 0.00005)\n"
     ]
    }
   ],
   "source": [
    "accuracy = cross_val_score(clf_rfeInfiltration, X_Infiltration_test2, Y_Infiltration_test, cv=5, scoring='accuracy')\n",
    "print(\"Accuracy: %0.5f (+/- %0.5f)\" % (accuracy.mean(), accuracy.std() * 2))"
   ]
  },
  {
   "cell_type": "code",
   "execution_count": 79,
   "metadata": {},
   "outputs": [
    {
     "name": "stderr",
     "output_type": "stream",
     "text": [
      "/opt/conda/lib/python3.7/site-packages/sklearn/model_selection/_split.py:667: UserWarning: The least populated class in y has only 2 members, which is less than n_splits=30.\n",
      "  % (min_groups, self.n_splits)), UserWarning)\n"
     ]
    },
    {
     "name": "stdout",
     "output_type": "stream",
     "text": [
      "Accuracy: 0.99998 (+/- 0.00014)\n"
     ]
    }
   ],
   "source": [
    "accuracy = cross_val_score(clf_rfeInfiltration, X_Infiltration_test2, Y_Infiltration_test, cv=30, scoring='accuracy')\n",
    "print(\"Accuracy: %0.5f (+/- %0.5f)\" % (accuracy.mean(), accuracy.std() * 2))"
   ]
  },
  {
   "cell_type": "code",
   "execution_count": 80,
   "metadata": {},
   "outputs": [
    {
     "name": "stderr",
     "output_type": "stream",
     "text": [
      "/opt/conda/lib/python3.7/site-packages/sklearn/model_selection/_split.py:667: UserWarning: The least populated class in y has only 2 members, which is less than n_splits=50.\n",
      "  % (min_groups, self.n_splits)), UserWarning)\n"
     ]
    },
    {
     "name": "stdout",
     "output_type": "stream",
     "text": [
      "Accuracy: 0.99997 (+/- 0.00021)\n"
     ]
    }
   ],
   "source": [
    "accuracy = cross_val_score(clf_rfeInfiltration, X_Infiltration_test2, Y_Infiltration_test, cv=50, scoring='accuracy')\n",
    "print(\"Accuracy: %0.5f (+/- %0.5f)\" % (accuracy.mean(), accuracy.std() * 2))"
   ]
  },
  {
   "cell_type": "code",
   "execution_count": 81,
   "metadata": {},
   "outputs": [
    {
     "name": "stdout",
     "output_type": "stream",
     "text": [
      "Accuracy: 0.99903 (+/- 0.00016)\n"
     ]
    }
   ],
   "source": [
    "accuracy = cross_val_score(clf_rfePortScan, X_PortScan_test2, Y_PortScan_test, cv=2, scoring='accuracy')\n",
    "print(\"Accuracy: %0.5f (+/- %0.5f)\" % (accuracy.mean(), accuracy.std() * 2))"
   ]
  },
  {
   "cell_type": "code",
   "execution_count": 82,
   "metadata": {},
   "outputs": [
    {
     "name": "stdout",
     "output_type": "stream",
     "text": [
      "Accuracy: 0.99906 (+/- 0.00026)\n"
     ]
    }
   ],
   "source": [
    "accuracy = cross_val_score(clf_rfePortScan, X_PortScan_test2, Y_PortScan_test, cv=5, scoring='accuracy')\n",
    "print(\"Accuracy: %0.5f (+/- %0.5f)\" % (accuracy.mean(), accuracy.std() * 2))"
   ]
  },
  {
   "cell_type": "code",
   "execution_count": 83,
   "metadata": {},
   "outputs": [
    {
     "name": "stdout",
     "output_type": "stream",
     "text": [
      "Accuracy: 0.99902 (+/- 0.00074)\n"
     ]
    }
   ],
   "source": [
    "accuracy = cross_val_score(clf_rfePortScan, X_PortScan_test2, Y_PortScan_test, cv=30, scoring='accuracy')\n",
    "print(\"Accuracy: %0.5f (+/- %0.5f)\" % (accuracy.mean(), accuracy.std() * 2))"
   ]
  },
  {
   "cell_type": "code",
   "execution_count": 84,
   "metadata": {},
   "outputs": [
    {
     "name": "stdout",
     "output_type": "stream",
     "text": [
      "Accuracy: 0.99905 (+/- 0.00128)\n"
     ]
    }
   ],
   "source": [
    "accuracy = cross_val_score(clf_rfePortScan, X_PortScan_test2, Y_PortScan_test, cv=50, scoring='accuracy')\n",
    "print(\"Accuracy: %0.5f (+/- %0.5f)\" % (accuracy.mean(), accuracy.std() * 2))"
   ]
  }
 ],
 "metadata": {
  "kernelspec": {
   "display_name": "Python 3",
   "language": "python",
   "name": "python3"
  },
  "language_info": {
   "codemirror_mode": {
    "name": "ipython",
    "version": 3
   },
   "file_extension": ".py",
   "mimetype": "text/x-python",
   "name": "python",
   "nbconvert_exporter": "python",
   "pygments_lexer": "ipython3",
   "version": "3.7.6"
  }
 },
 "nbformat": 4,
 "nbformat_minor": 4
}
